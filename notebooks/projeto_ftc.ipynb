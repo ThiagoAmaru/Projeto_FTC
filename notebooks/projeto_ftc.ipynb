{
 "cells": [
  {
   "cell_type": "markdown",
   "id": "98054f05",
   "metadata": {},
   "source": [
    "# Anotações\n",
    "\n",
    "Desempatar os critérios, descobrindo os restaurantes com o ID mais antigo\n",
    "\n",
    "Verificar a interpretação das questões 9 e 10, o que é culinaria caseira?\n"
   ]
  },
  {
   "cell_type": "markdown",
   "id": "c6d39047",
   "metadata": {},
   "source": [
    "# Import"
   ]
  },
  {
   "cell_type": "code",
   "execution_count": null,
   "id": "59bdf598",
   "metadata": {},
   "outputs": [],
   "source": [
    "import pandas as pd"
   ]
  },
  {
   "cell_type": "markdown",
   "id": "1d8b5fd6",
   "metadata": {},
   "source": [
    "# Load Data\n"
   ]
  },
  {
   "cell_type": "code",
   "execution_count": null,
   "id": "86699a6f",
   "metadata": {},
   "outputs": [],
   "source": [
    "df = pd.read_csv(\"../dataset/zomato.csv\")"
   ]
  },
  {
   "cell_type": "markdown",
   "id": "9cdb638e",
   "metadata": {},
   "source": [
    "# Clean Data"
   ]
  },
  {
   "cell_type": "code",
   "execution_count": null,
   "id": "19e27309",
   "metadata": {},
   "outputs": [
    {
     "data": {
      "text/plain": [
       "(7527, 21)"
      ]
     },
     "execution_count": 4,
     "metadata": {},
     "output_type": "execute_result"
    }
   ],
   "source": [
    "#Comando para ver quantidade de linhas e colunas do data frame\n",
    "df.shape"
   ]
  },
  {
   "cell_type": "code",
   "execution_count": null,
   "id": "05dd4724",
   "metadata": {},
   "outputs": [
    {
     "data": {
      "text/plain": [
       "Index(['Restaurant ID', 'Restaurant Name', 'Country Code', 'City', 'Address',\n",
       "       'Locality', 'Locality Verbose', 'Longitude', 'Latitude', 'Cuisines',\n",
       "       'Average Cost for two', 'Currency', 'Has Table booking',\n",
       "       'Has Online delivery', 'Is delivering now', 'Switch to order menu',\n",
       "       'Price range', 'Aggregate rating', 'Rating color', 'Rating text',\n",
       "       'Votes'],\n",
       "      dtype='object')"
      ]
     },
     "execution_count": 5,
     "metadata": {},
     "output_type": "execute_result"
    }
   ],
   "source": [
    "#Comando para verifiar o nome das colunas\n",
    "df.columns"
   ]
  },
  {
   "cell_type": "code",
   "execution_count": null,
   "id": "58147ac1",
   "metadata": {},
   "outputs": [
    {
     "data": {
      "text/html": [
       "<div>\n",
       "<style scoped>\n",
       "    .dataframe tbody tr th:only-of-type {\n",
       "        vertical-align: middle;\n",
       "    }\n",
       "\n",
       "    .dataframe tbody tr th {\n",
       "        vertical-align: top;\n",
       "    }\n",
       "\n",
       "    .dataframe thead th {\n",
       "        text-align: right;\n",
       "    }\n",
       "</style>\n",
       "<table border=\"1\" class=\"dataframe\">\n",
       "  <thead>\n",
       "    <tr style=\"text-align: right;\">\n",
       "      <th></th>\n",
       "      <th>Restaurant ID</th>\n",
       "      <th>Restaurant Name</th>\n",
       "      <th>Country Code</th>\n",
       "      <th>City</th>\n",
       "      <th>Address</th>\n",
       "      <th>Locality</th>\n",
       "      <th>Locality Verbose</th>\n",
       "      <th>Longitude</th>\n",
       "      <th>Latitude</th>\n",
       "      <th>Cuisines</th>\n",
       "      <th>...</th>\n",
       "      <th>Currency</th>\n",
       "      <th>Has Table booking</th>\n",
       "      <th>Has Online delivery</th>\n",
       "      <th>Is delivering now</th>\n",
       "      <th>Switch to order menu</th>\n",
       "      <th>Price range</th>\n",
       "      <th>Aggregate rating</th>\n",
       "      <th>Rating color</th>\n",
       "      <th>Rating text</th>\n",
       "      <th>Votes</th>\n",
       "    </tr>\n",
       "  </thead>\n",
       "  <tbody>\n",
       "    <tr>\n",
       "      <th>4848</th>\n",
       "      <td>3600416</td>\n",
       "      <td>Adyar Ananda Bhavan</td>\n",
       "      <td>1</td>\n",
       "      <td>Mysore</td>\n",
       "      <td>Railway Station, Jhansi Rani Lakshmi Bai Road,...</td>\n",
       "      <td>Yadavgiri</td>\n",
       "      <td>Yadavgiri, Mysore</td>\n",
       "      <td>76.645143</td>\n",
       "      <td>12.315222</td>\n",
       "      <td>South Indian, North Indian, Street Food</td>\n",
       "      <td>...</td>\n",
       "      <td>Indian Rupees(Rs.)</td>\n",
       "      <td>0</td>\n",
       "      <td>0</td>\n",
       "      <td>0</td>\n",
       "      <td>0</td>\n",
       "      <td>2</td>\n",
       "      <td>3.7</td>\n",
       "      <td>9ACD32</td>\n",
       "      <td>Good</td>\n",
       "      <td>114</td>\n",
       "    </tr>\n",
       "    <tr>\n",
       "      <th>3019</th>\n",
       "      <td>56618</td>\n",
       "      <td>AB's - Absolute Barbecues</td>\n",
       "      <td>1</td>\n",
       "      <td>Bangalore</td>\n",
       "      <td>90/4, 3rd Floor, Outer Ring Road, Munnekollaly...</td>\n",
       "      <td>Marathahalli</td>\n",
       "      <td>Marathahalli, Bangalore</td>\n",
       "      <td>77.699308</td>\n",
       "      <td>12.949798</td>\n",
       "      <td>European, Mediterranean, North Indian, BBQ</td>\n",
       "      <td>...</td>\n",
       "      <td>Indian Rupees(Rs.)</td>\n",
       "      <td>1</td>\n",
       "      <td>0</td>\n",
       "      <td>0</td>\n",
       "      <td>0</td>\n",
       "      <td>3</td>\n",
       "      <td>4.9</td>\n",
       "      <td>3F7E00</td>\n",
       "      <td>Excellent</td>\n",
       "      <td>12443</td>\n",
       "    </tr>\n",
       "    <tr>\n",
       "      <th>6628</th>\n",
       "      <td>6118140</td>\n",
       "      <td>Gymkhana</td>\n",
       "      <td>215</td>\n",
       "      <td>London</td>\n",
       "      <td>42 Albemarle Street, Mayfair, London W1S 4JH</td>\n",
       "      <td>Albemarle Street, Mayfair</td>\n",
       "      <td>Albemarle Street, Mayfair, London</td>\n",
       "      <td>-0.141645</td>\n",
       "      <td>51.508515</td>\n",
       "      <td>Indian, Pakistani, Curry</td>\n",
       "      <td>...</td>\n",
       "      <td>Pounds(£)</td>\n",
       "      <td>0</td>\n",
       "      <td>0</td>\n",
       "      <td>0</td>\n",
       "      <td>0</td>\n",
       "      <td>4</td>\n",
       "      <td>4.8</td>\n",
       "      <td>3F7E00</td>\n",
       "      <td>Excellent</td>\n",
       "      <td>240</td>\n",
       "    </tr>\n",
       "    <tr>\n",
       "      <th>6064</th>\n",
       "      <td>18370724</td>\n",
       "      <td>Gyu - Kaku Japanese BBQ</td>\n",
       "      <td>94</td>\n",
       "      <td>Jakarta</td>\n",
       "      <td>Neo SOHO Mall, Lantai Lower Ground, Jl. Letjen...</td>\n",
       "      <td>Neo SOHO Mall, Tanjung Duren</td>\n",
       "      <td>Neo SOHO Mall, Tanjung Duren, Jakarta</td>\n",
       "      <td>106.790012</td>\n",
       "      <td>-6.174767</td>\n",
       "      <td>Japanese, BBQ</td>\n",
       "      <td>...</td>\n",
       "      <td>Indonesian Rupiah(IDR)</td>\n",
       "      <td>0</td>\n",
       "      <td>0</td>\n",
       "      <td>0</td>\n",
       "      <td>0</td>\n",
       "      <td>3</td>\n",
       "      <td>4.9</td>\n",
       "      <td>3F7E00</td>\n",
       "      <td>Excellent</td>\n",
       "      <td>1399</td>\n",
       "    </tr>\n",
       "    <tr>\n",
       "      <th>5176</th>\n",
       "      <td>18699264</td>\n",
       "      <td>Jade Garden</td>\n",
       "      <td>1</td>\n",
       "      <td>Ooty</td>\n",
       "      <td>Hotel Gem Park, Shedding Road, Marlimund, Ooty</td>\n",
       "      <td>Hotel Gem Park, Marlimund</td>\n",
       "      <td>Hotel Gem Park, Marlimund, Ooty</td>\n",
       "      <td>76.704164</td>\n",
       "      <td>11.420603</td>\n",
       "      <td>Chinese</td>\n",
       "      <td>...</td>\n",
       "      <td>Indian Rupees(Rs.)</td>\n",
       "      <td>0</td>\n",
       "      <td>0</td>\n",
       "      <td>0</td>\n",
       "      <td>0</td>\n",
       "      <td>3</td>\n",
       "      <td>3.3</td>\n",
       "      <td>CDD614</td>\n",
       "      <td>Average</td>\n",
       "      <td>16</td>\n",
       "    </tr>\n",
       "  </tbody>\n",
       "</table>\n",
       "<p>5 rows × 21 columns</p>\n",
       "</div>"
      ],
      "text/plain": [
       "      Restaurant ID            Restaurant Name  Country Code       City  \\\n",
       "4848        3600416        Adyar Ananda Bhavan             1     Mysore   \n",
       "3019          56618  AB's - Absolute Barbecues             1  Bangalore   \n",
       "6628        6118140                   Gymkhana           215     London   \n",
       "6064       18370724    Gyu - Kaku Japanese BBQ            94    Jakarta   \n",
       "5176       18699264                Jade Garden             1       Ooty   \n",
       "\n",
       "                                                Address  \\\n",
       "4848  Railway Station, Jhansi Rani Lakshmi Bai Road,...   \n",
       "3019  90/4, 3rd Floor, Outer Ring Road, Munnekollaly...   \n",
       "6628       42 Albemarle Street, Mayfair, London W1S 4JH   \n",
       "6064  Neo SOHO Mall, Lantai Lower Ground, Jl. Letjen...   \n",
       "5176     Hotel Gem Park, Shedding Road, Marlimund, Ooty   \n",
       "\n",
       "                          Locality                       Locality Verbose  \\\n",
       "4848                     Yadavgiri                      Yadavgiri, Mysore   \n",
       "3019                  Marathahalli                Marathahalli, Bangalore   \n",
       "6628     Albemarle Street, Mayfair      Albemarle Street, Mayfair, London   \n",
       "6064  Neo SOHO Mall, Tanjung Duren  Neo SOHO Mall, Tanjung Duren, Jakarta   \n",
       "5176     Hotel Gem Park, Marlimund        Hotel Gem Park, Marlimund, Ooty   \n",
       "\n",
       "       Longitude   Latitude                                    Cuisines  ...  \\\n",
       "4848   76.645143  12.315222     South Indian, North Indian, Street Food  ...   \n",
       "3019   77.699308  12.949798  European, Mediterranean, North Indian, BBQ  ...   \n",
       "6628   -0.141645  51.508515                    Indian, Pakistani, Curry  ...   \n",
       "6064  106.790012  -6.174767                               Japanese, BBQ  ...   \n",
       "5176   76.704164  11.420603                                     Chinese  ...   \n",
       "\n",
       "                    Currency Has Table booking  Has Online delivery  \\\n",
       "4848      Indian Rupees(Rs.)                 0                    0   \n",
       "3019      Indian Rupees(Rs.)                 1                    0   \n",
       "6628               Pounds(£)                 0                    0   \n",
       "6064  Indonesian Rupiah(IDR)                 0                    0   \n",
       "5176      Indian Rupees(Rs.)                 0                    0   \n",
       "\n",
       "      Is delivering now  Switch to order menu  Price range  Aggregate rating  \\\n",
       "4848                  0                     0            2               3.7   \n",
       "3019                  0                     0            3               4.9   \n",
       "6628                  0                     0            4               4.8   \n",
       "6064                  0                     0            3               4.9   \n",
       "5176                  0                     0            3               3.3   \n",
       "\n",
       "      Rating color Rating text  Votes  \n",
       "4848        9ACD32        Good    114  \n",
       "3019        3F7E00   Excellent  12443  \n",
       "6628        3F7E00   Excellent    240  \n",
       "6064        3F7E00   Excellent   1399  \n",
       "5176        CDD614     Average     16  \n",
       "\n",
       "[5 rows x 21 columns]"
      ]
     },
     "execution_count": 6,
     "metadata": {},
     "output_type": "execute_result"
    }
   ],
   "source": [
    "#Comando para ver 5 linhas aleatorias das tabelas\n",
    "df.sample(5)"
   ]
  },
  {
   "cell_type": "code",
   "execution_count": null,
   "id": "079af57e",
   "metadata": {
    "scrolled": true
   },
   "outputs": [
    {
     "data": {
      "text/plain": [
       "Restaurant ID             int64\n",
       "Restaurant Name          object\n",
       "Country Code              int64\n",
       "City                     object\n",
       "Address                  object\n",
       "Locality                 object\n",
       "Locality Verbose         object\n",
       "Longitude               float64\n",
       "Latitude                float64\n",
       "Cuisines                 object\n",
       "Average Cost for two      int64\n",
       "Currency                 object\n",
       "Has Table booking         int64\n",
       "Has Online delivery       int64\n",
       "Is delivering now         int64\n",
       "Switch to order menu      int64\n",
       "Price range               int64\n",
       "Aggregate rating        float64\n",
       "Rating color             object\n",
       "Rating text              object\n",
       "Votes                     int64\n",
       "dtype: object"
      ]
     },
     "execution_count": 7,
     "metadata": {},
     "output_type": "execute_result"
    }
   ],
   "source": [
    "#Comando para verifiar os tipos dos variaveis\n",
    "df.dtypes"
   ]
  },
  {
   "cell_type": "code",
   "execution_count": null,
   "id": "0245e58b",
   "metadata": {},
   "outputs": [],
   "source": [
    "# Copia o data frame\n",
    "df1 = df.copy()"
   ]
  },
  {
   "cell_type": "markdown",
   "id": "1c4e0c9e",
   "metadata": {},
   "source": [
    "# # Aplicando as alterações sugeridas\n"
   ]
  },
  {
   "cell_type": "code",
   "execution_count": null,
   "id": "8b9ebb64",
   "metadata": {},
   "outputs": [],
   "source": [
    "# Preenchimento do nome dos países\n",
    "\n",
    "COUNTRIES = {\n",
    "1: \"India\",\n",
    "14: \"Australia\",\n",
    "30: \"Brazil\",\n",
    "37: \"Canada\",\n",
    "94: \"Indonesia\",\n",
    "148: \"New Zeland\",\n",
    "162: \"Philippines\",\n",
    "166: \"Qatar\",\n",
    "184: \"Singapure\",\n",
    "189: \"South Africa\",\n",
    "191: \"Sri Lanka\",\n",
    "208: \"Turkey\",\n",
    "214: \"United Arab Emirates\",\n",
    "215: \"England\",\n",
    "216: \"United States of America\",\n",
    "}\n",
    "\n",
    "def country_name(country_id):\n",
    "    return COUNTRIES[country_id]\n",
    "\n"
   ]
  },
  {
   "cell_type": "code",
   "execution_count": null,
   "id": "212f6397",
   "metadata": {},
   "outputs": [],
   "source": [
    "# Criação do Tipo de Categoria de Comida\n",
    "\n",
    "def create_price_tye(price_range):\n",
    "    if price_range == 1:\n",
    "        return \"cheap\"\n",
    "    elif price_range == 2:\n",
    "        return \"normal\"\n",
    "    elif price_range == 3:\n",
    "        return \"expensive\"\n",
    "    else:\n",
    "        return \"gourmet\"\n"
   ]
  },
  {
   "cell_type": "code",
   "execution_count": null,
   "id": "936396c6",
   "metadata": {},
   "outputs": [],
   "source": [
    "# Criação do nome das Cores\n",
    "\n",
    "COLORS = {\n",
    "\"3F7E00\": \"darkgreen\",\n",
    "\"5BA829\": \"green\",\n",
    "\"9ACD32\": \"lightgreen\",\n",
    "\"CDD614\": \"orange\",\n",
    "\"FFBA00\": \"red\",\n",
    "\"CBCBC8\": \"darkred\",\n",
    "\"FF7800\": \"darkred\",\n",
    "}\n",
    "\n",
    "def color_name(color_code):\n",
    "    return COLORS[color_code]\n"
   ]
  },
  {
   "cell_type": "code",
   "execution_count": null,
   "id": "09e0932c",
   "metadata": {},
   "outputs": [],
   "source": [
    "#Além disso, o Cientista de Dados também sugeriu categorizar, inicialmente, todos os restaurantes somente por um tipo de culinária. Para isso, ele te entregou o seguinte código:\n",
    "\n",
    "#A coluna que recebera, localizando a coluna e fazendo aplicação a todas as linhas, verificando o que é string, convertendo para string\n",
    "\n",
    "df1[\"Cuisines\"] = df1.loc[:, \"Cuisines\"].apply(lambda x: x.split(\",\")[0] if isinstance(x, str) == True else str(x).split(\",\")[0])\n",
    "\n",
    "\n",
    "\n"
   ]
  },
  {
   "cell_type": "markdown",
   "id": "61bcfe9d",
   "metadata": {},
   "source": [
    "## Geral\n"
   ]
  },
  {
   "cell_type": "code",
   "execution_count": null,
   "id": "fc6b22b3",
   "metadata": {},
   "outputs": [
    {
     "data": {
      "text/html": [
       "<div>\n",
       "<style scoped>\n",
       "    .dataframe tbody tr th:only-of-type {\n",
       "        vertical-align: middle;\n",
       "    }\n",
       "\n",
       "    .dataframe tbody tr th {\n",
       "        vertical-align: top;\n",
       "    }\n",
       "\n",
       "    .dataframe thead th {\n",
       "        text-align: right;\n",
       "    }\n",
       "</style>\n",
       "<table border=\"1\" class=\"dataframe\">\n",
       "  <thead>\n",
       "    <tr style=\"text-align: right;\">\n",
       "      <th></th>\n",
       "      <th>Restaurant ID</th>\n",
       "      <th>Restaurant Name</th>\n",
       "      <th>Country Code</th>\n",
       "      <th>City</th>\n",
       "      <th>Address</th>\n",
       "      <th>Locality</th>\n",
       "      <th>Locality Verbose</th>\n",
       "      <th>Longitude</th>\n",
       "      <th>Latitude</th>\n",
       "      <th>Cuisines</th>\n",
       "      <th>...</th>\n",
       "      <th>Currency</th>\n",
       "      <th>Has Table booking</th>\n",
       "      <th>Has Online delivery</th>\n",
       "      <th>Is delivering now</th>\n",
       "      <th>Switch to order menu</th>\n",
       "      <th>Price range</th>\n",
       "      <th>Aggregate rating</th>\n",
       "      <th>Rating color</th>\n",
       "      <th>Rating text</th>\n",
       "      <th>Votes</th>\n",
       "    </tr>\n",
       "  </thead>\n",
       "  <tbody>\n",
       "    <tr>\n",
       "      <th>2289</th>\n",
       "      <td>205694</td>\n",
       "      <td>Kaati Express</td>\n",
       "      <td>214</td>\n",
       "      <td>Dubai</td>\n",
       "      <td>Shop 5, Ground Floor, Sheikh Hamadan Colony, B...</td>\n",
       "      <td>Al Karama</td>\n",
       "      <td>Al Karama, Dubai</td>\n",
       "      <td>55.304556</td>\n",
       "      <td>25.247919</td>\n",
       "      <td>Indian</td>\n",
       "      <td>...</td>\n",
       "      <td>Emirati Diram(AED)</td>\n",
       "      <td>0</td>\n",
       "      <td>1</td>\n",
       "      <td>0</td>\n",
       "      <td>0</td>\n",
       "      <td>2</td>\n",
       "      <td>3.6</td>\n",
       "      <td>9ACD32</td>\n",
       "      <td>Good</td>\n",
       "      <td>1117</td>\n",
       "    </tr>\n",
       "    <tr>\n",
       "      <th>3769</th>\n",
       "      <td>2100478</td>\n",
       "      <td>Terra Mayaa Restaurant and Lounge</td>\n",
       "      <td>1</td>\n",
       "      <td>Guwahati</td>\n",
       "      <td>6th Floor, Anil Plaza 2, G.S. Road, Christian ...</td>\n",
       "      <td>Anil Plaza, Christian Basti</td>\n",
       "      <td>Anil Plaza, Christian Basti, Guwahati</td>\n",
       "      <td>91.773809</td>\n",
       "      <td>26.160651</td>\n",
       "      <td>Continental</td>\n",
       "      <td>...</td>\n",
       "      <td>Indian Rupees(Rs.)</td>\n",
       "      <td>0</td>\n",
       "      <td>1</td>\n",
       "      <td>0</td>\n",
       "      <td>0</td>\n",
       "      <td>3</td>\n",
       "      <td>4.1</td>\n",
       "      <td>5BA829</td>\n",
       "      <td>Very Good</td>\n",
       "      <td>808</td>\n",
       "    </tr>\n",
       "    <tr>\n",
       "      <th>5653</th>\n",
       "      <td>18704339</td>\n",
       "      <td>Hotel Combermere</td>\n",
       "      <td>1</td>\n",
       "      <td>Shimla</td>\n",
       "      <td>Opposite Tourism Lift, The Mall, Shimla</td>\n",
       "      <td>Summer Hill</td>\n",
       "      <td>Summer Hill, Shimla</td>\n",
       "      <td>77.170801</td>\n",
       "      <td>31.107204</td>\n",
       "      <td>Cafe</td>\n",
       "      <td>...</td>\n",
       "      <td>Indian Rupees(Rs.)</td>\n",
       "      <td>0</td>\n",
       "      <td>0</td>\n",
       "      <td>0</td>\n",
       "      <td>0</td>\n",
       "      <td>2</td>\n",
       "      <td>3.6</td>\n",
       "      <td>9ACD32</td>\n",
       "      <td>Good</td>\n",
       "      <td>28</td>\n",
       "    </tr>\n",
       "    <tr>\n",
       "      <th>985</th>\n",
       "      <td>16973157</td>\n",
       "      <td>D Bar</td>\n",
       "      <td>216</td>\n",
       "      <td>Denver</td>\n",
       "      <td>494 East 19th Avenue, Denver 80203</td>\n",
       "      <td>North Capitol Hill</td>\n",
       "      <td>North Capitol Hill, Denver</td>\n",
       "      <td>-104.981408</td>\n",
       "      <td>39.746058</td>\n",
       "      <td>New American</td>\n",
       "      <td>...</td>\n",
       "      <td>Dollar($)</td>\n",
       "      <td>0</td>\n",
       "      <td>0</td>\n",
       "      <td>0</td>\n",
       "      <td>0</td>\n",
       "      <td>2</td>\n",
       "      <td>4.3</td>\n",
       "      <td>5BA829</td>\n",
       "      <td>Very Good</td>\n",
       "      <td>205</td>\n",
       "    </tr>\n",
       "    <tr>\n",
       "      <th>5895</th>\n",
       "      <td>3900058</td>\n",
       "      <td>Chrystal Bowl Restaurant</td>\n",
       "      <td>1</td>\n",
       "      <td>Varanasi</td>\n",
       "      <td>34-B, Ravindra Puri, Near Lanka, Varanasi</td>\n",
       "      <td>Lanka</td>\n",
       "      <td>Lanka, Varanasi</td>\n",
       "      <td>83.001741</td>\n",
       "      <td>25.290371</td>\n",
       "      <td>North Indian</td>\n",
       "      <td>...</td>\n",
       "      <td>Indian Rupees(Rs.)</td>\n",
       "      <td>0</td>\n",
       "      <td>1</td>\n",
       "      <td>0</td>\n",
       "      <td>0</td>\n",
       "      <td>4</td>\n",
       "      <td>4.0</td>\n",
       "      <td>5BA829</td>\n",
       "      <td>Very Good</td>\n",
       "      <td>284</td>\n",
       "    </tr>\n",
       "  </tbody>\n",
       "</table>\n",
       "<p>5 rows × 21 columns</p>\n",
       "</div>"
      ],
      "text/plain": [
       "      Restaurant ID                    Restaurant Name  Country Code  \\\n",
       "2289         205694                      Kaati Express           214   \n",
       "3769        2100478  Terra Mayaa Restaurant and Lounge             1   \n",
       "5653       18704339                   Hotel Combermere             1   \n",
       "985        16973157                              D Bar           216   \n",
       "5895        3900058           Chrystal Bowl Restaurant             1   \n",
       "\n",
       "          City                                            Address  \\\n",
       "2289     Dubai  Shop 5, Ground Floor, Sheikh Hamadan Colony, B...   \n",
       "3769  Guwahati  6th Floor, Anil Plaza 2, G.S. Road, Christian ...   \n",
       "5653    Shimla            Opposite Tourism Lift, The Mall, Shimla   \n",
       "985     Denver                 494 East 19th Avenue, Denver 80203   \n",
       "5895  Varanasi          34-B, Ravindra Puri, Near Lanka, Varanasi   \n",
       "\n",
       "                         Locality                       Locality Verbose  \\\n",
       "2289                    Al Karama                       Al Karama, Dubai   \n",
       "3769  Anil Plaza, Christian Basti  Anil Plaza, Christian Basti, Guwahati   \n",
       "5653                  Summer Hill                    Summer Hill, Shimla   \n",
       "985            North Capitol Hill             North Capitol Hill, Denver   \n",
       "5895                        Lanka                        Lanka, Varanasi   \n",
       "\n",
       "       Longitude   Latitude      Cuisines  ...            Currency  \\\n",
       "2289   55.304556  25.247919        Indian  ...  Emirati Diram(AED)   \n",
       "3769   91.773809  26.160651   Continental  ...  Indian Rupees(Rs.)   \n",
       "5653   77.170801  31.107204          Cafe  ...  Indian Rupees(Rs.)   \n",
       "985  -104.981408  39.746058  New American  ...           Dollar($)   \n",
       "5895   83.001741  25.290371  North Indian  ...  Indian Rupees(Rs.)   \n",
       "\n",
       "     Has Table booking  Has Online delivery  Is delivering now  \\\n",
       "2289                 0                    1                  0   \n",
       "3769                 0                    1                  0   \n",
       "5653                 0                    0                  0   \n",
       "985                  0                    0                  0   \n",
       "5895                 0                    1                  0   \n",
       "\n",
       "      Switch to order menu  Price range  Aggregate rating  Rating color  \\\n",
       "2289                     0            2               3.6        9ACD32   \n",
       "3769                     0            3               4.1        5BA829   \n",
       "5653                     0            2               3.6        9ACD32   \n",
       "985                      0            2               4.3        5BA829   \n",
       "5895                     0            4               4.0        5BA829   \n",
       "\n",
       "     Rating text Votes  \n",
       "2289        Good  1117  \n",
       "3769   Very Good   808  \n",
       "5653        Good    28  \n",
       "985    Very Good   205  \n",
       "5895   Very Good   284  \n",
       "\n",
       "[5 rows x 21 columns]"
      ]
     },
     "execution_count": 14,
     "metadata": {},
     "output_type": "execute_result"
    }
   ],
   "source": [
    "df1.sample(5)"
   ]
  },
  {
   "cell_type": "code",
   "execution_count": null,
   "id": "13f893d8",
   "metadata": {},
   "outputs": [
    {
     "data": {
      "text/plain": [
       "6942"
      ]
     },
     "execution_count": 15,
     "metadata": {},
     "output_type": "execute_result"
    }
   ],
   "source": [
    "#1. Quantos restaurantes únicos estão registrados?\n",
    "\n",
    "# Identifica os valores unicos, o tamanho sem os valores repetido, [0] pega apenas as linhas, [1] seria colunas\n",
    "df1['Restaurant ID'].unique().shape[0]"
   ]
  },
  {
   "cell_type": "code",
   "execution_count": null,
   "id": "a93bd398",
   "metadata": {},
   "outputs": [
    {
     "data": {
      "text/plain": [
       "15"
      ]
     },
     "execution_count": 16,
     "metadata": {},
     "output_type": "execute_result"
    }
   ],
   "source": [
    "#2. Quantos países únicos estão registrados?\n",
    "\n",
    "# Identifica os valores unicos, o tamanho sem os valores repetido, [0] pega apenas as linhas, [1] seria colunas\n",
    "df1['Country Code'].unique().shape[0]"
   ]
  },
  {
   "cell_type": "code",
   "execution_count": null,
   "id": "ac25bf6a",
   "metadata": {},
   "outputs": [
    {
     "data": {
      "text/plain": [
       "125"
      ]
     },
     "execution_count": 17,
     "metadata": {},
     "output_type": "execute_result"
    }
   ],
   "source": [
    "# 3. Quantas cidades únicas estão registradas?\n",
    "\n",
    "# Identifica os valores unicos, o tamanho sem os valores repetido, [0] pega apenas as linhas, [1] seria colunas\n",
    "df1['City'].unique().shape[0]"
   ]
  },
  {
   "cell_type": "code",
   "execution_count": null,
   "id": "fa17f1b5",
   "metadata": {},
   "outputs": [
    {
     "data": {
      "text/plain": [
       "4639654"
      ]
     },
     "execution_count": 18,
     "metadata": {},
     "output_type": "execute_result"
    }
   ],
   "source": [
    "# 4. Qual o total de avaliações feitas?\n",
    "\n",
    "#soma os valores da coluna\n",
    "df1['Votes'].sum()"
   ]
  },
  {
   "cell_type": "code",
   "execution_count": null,
   "id": "ffdd2ea1",
   "metadata": {},
   "outputs": [
    {
     "data": {
      "text/plain": [
       "166"
      ]
     },
     "execution_count": 19,
     "metadata": {},
     "output_type": "execute_result"
    }
   ],
   "source": [
    "# 5. Qual o total de tipos de culinária registrados?\n",
    "\n",
    "# Identifica os valores unicos, o tamanho sem os valores repetido, [0] pega apenas as linhas, [1] seria colunas\n",
    "df1['Cuisines'].unique().shape[0]"
   ]
  },
  {
   "cell_type": "markdown",
   "id": "dccbcc01",
   "metadata": {},
   "source": [
    "# Pais\n"
   ]
  },
  {
   "cell_type": "code",
   "execution_count": null,
   "id": "fb94e03e",
   "metadata": {},
   "outputs": [
    {
     "data": {
      "text/plain": [
       "'India'"
      ]
     },
     "execution_count": 20,
     "metadata": {},
     "output_type": "execute_result"
    }
   ],
   "source": [
    "# 1. Qual o nome do país que possui mais cidades registradas?\n",
    "\n",
    "# Seleciona colunas\n",
    "col = ['Country Code', 'City']\n",
    "\n",
    "# Agrupa as colunas pelo codigo do pais, ver a quantidade de elementos dentro \"Country Code\", reseta o index\n",
    "aux = df1.loc[: , col].groupby('Country Code').count().reset_index()\n",
    "\n",
    "# Ordena os Valores por Cidade, o ascending = False organiza em ordem decrescente, head tras os primeiros elementosva\n",
    "var = aux.sort_values('City', ascending= False).head(1)\n",
    "\n",
    "country_name(var.iloc[0, 0])\n"
   ]
  },
  {
   "cell_type": "code",
   "execution_count": null,
   "id": "8c21868e",
   "metadata": {},
   "outputs": [
    {
     "data": {
      "text/plain": [
       "'India'"
      ]
     },
     "execution_count": 21,
     "metadata": {},
     "output_type": "execute_result"
    }
   ],
   "source": [
    "# 2. Qual o nome do país que possui mais restaurantes registrados?\n",
    "\n",
    "# Seleciona colunas\n",
    "col = ['Country Code', 'Restaurant ID']\n",
    "\n",
    "# Agrupa as colunas pelo codigo do pais, ver a quantidade de elementos dentro \"Country Code\", reseta o index\n",
    "aux = df1.loc[: , col].groupby('Country Code').count().reset_index()\n",
    "\n",
    "# Ordena os Valores por Cidade, o ascending = False organiza em ordem decrescente, head tras os primeiros elementos\n",
    "var = aux.sort_values('Restaurant ID', ascending= False).head(1)\n",
    "\n",
    "country_name(var.iloc[0, 0])"
   ]
  },
  {
   "cell_type": "code",
   "execution_count": null,
   "id": "d0eb1958",
   "metadata": {},
   "outputs": [
    {
     "data": {
      "text/plain": [
       "'United States of America'"
      ]
     },
     "execution_count": 22,
     "metadata": {},
     "output_type": "execute_result"
    }
   ],
   "source": [
    "#3. Qual o nome do país que possui mais restaurantes com o nível de preço igual a 4 registrados?\n",
    "\n",
    "#seleciona as colunas que serão utilizadas em uma unica variavel\n",
    "col = ['Country Code', 'Restaurant ID']\n",
    "\n",
    "#localiza as linhas com o \"Price range\" igual a quatro, as colunas desejadas, reseta o index\n",
    "pre_four = df1.loc[df1['Price range'] == 4, col].reset_index()\n",
    "\n",
    "# Agrupa as colunas pelo codigo do pais, ver a quantidade de elementos dentro \"Country Code\", reseta o index\n",
    "aux = pre_four.loc[: , col].groupby('Country Code').count().reset_index()\n",
    "\n",
    "# Ordena os Valores por Cidade, o ascending = False organiza em ordem decrescente, head tras os primeiros elementos\n",
    "var = aux.sort_values('Restaurant ID', ascending= False).head(1)\n",
    "\n",
    "country_name(var.iloc[0, 0])\n",
    "\n"
   ]
  },
  {
   "cell_type": "code",
   "execution_count": null,
   "id": "914d5ae7",
   "metadata": {},
   "outputs": [],
   "source": []
  },
  {
   "cell_type": "code",
   "execution_count": null,
   "id": "431223d7",
   "metadata": {},
   "outputs": [
    {
     "data": {
      "text/plain": [
       "'India'"
      ]
     },
     "execution_count": 23,
     "metadata": {},
     "output_type": "execute_result"
    }
   ],
   "source": [
    "# 4. Qual o nome do país que possui a maior quantidade de tipos de culinária distintos?\n",
    "\n",
    "col = ['Country Code', 'Cuisines']\n",
    "\n",
    "\n",
    "# O metodo nunique realiza a soma dos elementos, considerando apenas os valores únicos\n",
    "var = df1[col].groupby(['Country Code'], ).nunique().reset_index().sort_values('Cuisines', ascending = False)\n",
    "\n",
    "\n",
    "country_name(var.iloc[0, 0])"
   ]
  },
  {
   "cell_type": "code",
   "execution_count": null,
   "id": "a156a363",
   "metadata": {},
   "outputs": [
    {
     "data": {
      "text/plain": [
       "'India'"
      ]
     },
     "execution_count": 24,
     "metadata": {},
     "output_type": "execute_result"
    }
   ],
   "source": [
    "#5. Qual o nome do país que possui a maior quantidade de avaliações feitas?\n",
    "\n",
    "# Seleciona colunas\n",
    "col = ['Country Code', 'Votes']\n",
    "\n",
    "# Agrupa as colunas pelo codigo do pais, ver a quantidade de elementos dentro \"Country Code\", reseta o index\n",
    "aux = df1.loc[: , col].groupby('Country Code').sum().reset_index()\n",
    "\n",
    "# Ordena os Valores por Cidade, o ascending = False organiza em ordem decrescente, head tras os primeiros elementos\n",
    "var = aux.sort_values('Votes', ascending= False).head(1)\n",
    "\n",
    "country_name(var.iloc[0, 0])"
   ]
  },
  {
   "cell_type": "code",
   "execution_count": null,
   "id": "a45e6ba2",
   "metadata": {},
   "outputs": [
    {
     "data": {
      "text/plain": [
       "'India'"
      ]
     },
     "execution_count": 25,
     "metadata": {},
     "output_type": "execute_result"
    }
   ],
   "source": [
    "#6. Qual o nome do país que possui a maior quantidade de restaurantes que fazem entrega?\n",
    "\n",
    "#Nao eh especificado, vou assumir que 1 é igual a positivo\n",
    "\n",
    "col = ['Country Code', 'Restaurant ID']\n",
    "\n",
    "filtro = df1.loc[(df1['Is delivering now'] == 1) | (df1['Has Online delivery'] == 1)]\n",
    "\n",
    "aux = filtro.loc[: , col].groupby('Country Code').count().reset_index()\n",
    "\n",
    "# Ordena os Valores por Cidade, o ascending = False organiza em ordem decrescente, head tras os primeiros elementos\n",
    "var = aux.sort_values('Restaurant ID', ascending= False).head(1)\n",
    "\n",
    "country_name(var.iloc[0, 0])"
   ]
  },
  {
   "cell_type": "code",
   "execution_count": null,
   "id": "d1bb83e7",
   "metadata": {},
   "outputs": [
    {
     "data": {
      "text/plain": [
       "'India'"
      ]
     },
     "execution_count": 26,
     "metadata": {},
     "output_type": "execute_result"
    }
   ],
   "source": [
    "#7. Qual o nome do país que possui a maior quantidade de restaurantes que aceitam reservas?\n",
    "\n",
    "#Nao eh especificado, vou assumir que 1 é igual a positivo\n",
    "\n",
    "col = ['Country Code', 'Restaurant ID']\n",
    "\n",
    "filtro = df1.loc[df1['Has Table booking'] == 1]\n",
    "\n",
    "aux = filtro.loc[: , col].groupby('Country Code').count().reset_index()\n",
    "\n",
    "# Ordena os Valores por Cidade, o ascending = False organiza em ordem decrescente, head tras os primeiros elementos\n",
    "var = aux.sort_values('Restaurant ID', ascending= False).head(1)\n",
    "\n",
    "country_name(var.iloc[0, 0])"
   ]
  },
  {
   "cell_type": "code",
   "execution_count": null,
   "id": "5f0a662e",
   "metadata": {},
   "outputs": [
    {
     "data": {
      "text/plain": [
       "'Indonesia'"
      ]
     },
     "execution_count": 27,
     "metadata": {},
     "output_type": "execute_result"
    }
   ],
   "source": [
    "#8. Qual o nome do país que possui, na média, a maior quantidade de avaliações registrada?\n",
    "\n",
    "# Seleciona colunas\n",
    "col = ['Country Code', 'Votes']\n",
    "\n",
    "aux = df1.loc[: , col].groupby('Country Code').mean().reset_index()\n",
    "\n",
    "# Ordena os Valores por Cidade, o ascending = False organiza em ordem decrescente, head tras os primeiros elementos\n",
    "var = aux.sort_values('Votes', ascending= False).head(1)\n",
    "\n",
    "country_name(var.iloc[0, 0])"
   ]
  },
  {
   "cell_type": "code",
   "execution_count": null,
   "id": "3b7768f8",
   "metadata": {},
   "outputs": [
    {
     "data": {
      "text/plain": [
       "'Indonesia'"
      ]
     },
     "execution_count": 28,
     "metadata": {},
     "output_type": "execute_result"
    }
   ],
   "source": [
    "#9. Qual o nome do país que possui, na média, a maior nota média registrada?\n",
    "\n",
    "# Seleciona colunas\n",
    "col = ['Country Code', 'Aggregate rating']\n",
    "\n",
    "aux = df1.loc[: , col].groupby('Country Code').mean().reset_index()\n",
    "\n",
    "# Ordena os Valores por Cidade, o ascending = False organiza em ordem decrescente, head tras os primeiros elementos\n",
    "var = aux.sort_values('Aggregate rating', ascending= False).head(1)\n",
    "\n",
    "country_name(var.iloc[0, 0])"
   ]
  },
  {
   "cell_type": "code",
   "execution_count": null,
   "id": "c74d9913",
   "metadata": {},
   "outputs": [
    {
     "data": {
      "text/plain": [
       "'Brazil'"
      ]
     },
     "execution_count": 29,
     "metadata": {},
     "output_type": "execute_result"
    }
   ],
   "source": [
    "#10. Qual o nome do país que possui, na média, a menor nota média registrada?\n",
    "\n",
    "# Seleciona colunas\n",
    "col = ['Country Code', 'Aggregate rating']\n",
    "\n",
    "aux = df1.loc[: , col].groupby('Country Code').mean().reset_index()\n",
    "\n",
    "# Ordena os Valores por Cidade, o ascending = False organiza em ordem decrescente, head tras os primeiros elementos\n",
    "var = aux.sort_values('Aggregate rating', ascending= True).head(1)\n",
    "\n",
    "country_name(var.iloc[0, 0])"
   ]
  },
  {
   "cell_type": "code",
   "execution_count": null,
   "id": "7637087a",
   "metadata": {},
   "outputs": [
    {
     "data": {
      "text/html": [
       "<div>\n",
       "<style scoped>\n",
       "    .dataframe tbody tr th:only-of-type {\n",
       "        vertical-align: middle;\n",
       "    }\n",
       "\n",
       "    .dataframe tbody tr th {\n",
       "        vertical-align: top;\n",
       "    }\n",
       "\n",
       "    .dataframe thead th {\n",
       "        text-align: right;\n",
       "    }\n",
       "</style>\n",
       "<table border=\"1\" class=\"dataframe\">\n",
       "  <thead>\n",
       "    <tr style=\"text-align: right;\">\n",
       "      <th></th>\n",
       "      <th>Country Code</th>\n",
       "      <th>Average Cost for two</th>\n",
       "    </tr>\n",
       "  </thead>\n",
       "  <tbody>\n",
       "    <tr>\n",
       "      <th>3</th>\n",
       "      <td>Canada</td>\n",
       "      <td>41.861111</td>\n",
       "    </tr>\n",
       "    <tr>\n",
       "      <th>13</th>\n",
       "      <td>England</td>\n",
       "      <td>43.045767</td>\n",
       "    </tr>\n",
       "    <tr>\n",
       "      <th>14</th>\n",
       "      <td>United States of America</td>\n",
       "      <td>54.921864</td>\n",
       "    </tr>\n",
       "    <tr>\n",
       "      <th>5</th>\n",
       "      <td>New Zeland</td>\n",
       "      <td>61.442688</td>\n",
       "    </tr>\n",
       "    <tr>\n",
       "      <th>11</th>\n",
       "      <td>Turkey</td>\n",
       "      <td>128.848485</td>\n",
       "    </tr>\n",
       "    <tr>\n",
       "      <th>2</th>\n",
       "      <td>Brazil</td>\n",
       "      <td>137.375479</td>\n",
       "    </tr>\n",
       "    <tr>\n",
       "      <th>8</th>\n",
       "      <td>Singapure</td>\n",
       "      <td>141.036585</td>\n",
       "    </tr>\n",
       "    <tr>\n",
       "      <th>12</th>\n",
       "      <td>United Arab Emirates</td>\n",
       "      <td>158.218563</td>\n",
       "    </tr>\n",
       "    <tr>\n",
       "      <th>7</th>\n",
       "      <td>Qatar</td>\n",
       "      <td>176.648936</td>\n",
       "    </tr>\n",
       "    <tr>\n",
       "      <th>9</th>\n",
       "      <td>South Africa</td>\n",
       "      <td>335.479058</td>\n",
       "    </tr>\n",
       "    <tr>\n",
       "      <th>0</th>\n",
       "      <td>India</td>\n",
       "      <td>702.303964</td>\n",
       "    </tr>\n",
       "    <tr>\n",
       "      <th>6</th>\n",
       "      <td>Philippines</td>\n",
       "      <td>1211.090909</td>\n",
       "    </tr>\n",
       "    <tr>\n",
       "      <th>10</th>\n",
       "      <td>Sri Lanka</td>\n",
       "      <td>2607.471264</td>\n",
       "    </tr>\n",
       "    <tr>\n",
       "      <th>1</th>\n",
       "      <td>Australia</td>\n",
       "      <td>138959.783333</td>\n",
       "    </tr>\n",
       "    <tr>\n",
       "      <th>4</th>\n",
       "      <td>Indonesia</td>\n",
       "      <td>312682.926829</td>\n",
       "    </tr>\n",
       "  </tbody>\n",
       "</table>\n",
       "</div>"
      ],
      "text/plain": [
       "                Country Code  Average Cost for two\n",
       "3                     Canada             41.861111\n",
       "13                   England             43.045767\n",
       "14  United States of America             54.921864\n",
       "5                 New Zeland             61.442688\n",
       "11                    Turkey            128.848485\n",
       "2                     Brazil            137.375479\n",
       "8                  Singapure            141.036585\n",
       "12      United Arab Emirates            158.218563\n",
       "7                      Qatar            176.648936\n",
       "9               South Africa            335.479058\n",
       "0                      India            702.303964\n",
       "6                Philippines           1211.090909\n",
       "10                 Sri Lanka           2607.471264\n",
       "1                  Australia         138959.783333\n",
       "4                  Indonesia         312682.926829"
      ]
     },
     "execution_count": 30,
     "metadata": {},
     "output_type": "execute_result"
    }
   ],
   "source": [
    "#11. Qual a média de preço de um prato para dois por país?\n",
    "\n",
    "col = ['Average Cost for two', 'Country Code']\n",
    "\n",
    "aux = df1.loc[: , col].groupby('Country Code').mean().reset_index()\n",
    "\n",
    "aux['Country Code'] = aux['Country Code'].apply(lambda x : country_name(x)) \n",
    "\n",
    "aux.sort_values('Average Cost for two', ascending= True)\n"
   ]
  },
  {
   "cell_type": "markdown",
   "id": "555e2ab0",
   "metadata": {},
   "source": [
    "# Cidade"
   ]
  },
  {
   "cell_type": "code",
   "execution_count": null,
   "id": "7061d485",
   "metadata": {},
   "outputs": [
    {
     "data": {
      "text/html": [
       "<div>\n",
       "<style scoped>\n",
       "    .dataframe tbody tr th:only-of-type {\n",
       "        vertical-align: middle;\n",
       "    }\n",
       "\n",
       "    .dataframe tbody tr th {\n",
       "        vertical-align: top;\n",
       "    }\n",
       "\n",
       "    .dataframe thead th {\n",
       "        text-align: right;\n",
       "    }\n",
       "</style>\n",
       "<table border=\"1\" class=\"dataframe\">\n",
       "  <thead>\n",
       "    <tr style=\"text-align: right;\">\n",
       "      <th></th>\n",
       "      <th>City</th>\n",
       "      <th>Restaurant ID</th>\n",
       "    </tr>\n",
       "  </thead>\n",
       "  <tbody>\n",
       "    <tr>\n",
       "      <th>76</th>\n",
       "      <td>Nagpur</td>\n",
       "      <td>99</td>\n",
       "    </tr>\n",
       "  </tbody>\n",
       "</table>\n",
       "</div>"
      ],
      "text/plain": [
       "      City  Restaurant ID\n",
       "76  Nagpur             99"
      ]
     },
     "execution_count": 31,
     "metadata": {},
     "output_type": "execute_result"
    }
   ],
   "source": [
    "# 1. Qual o nome da cidade que possui mais restaurantes registrados?\n",
    "\n",
    "col = ['City', 'Restaurant ID']\n",
    "aux = df1.loc[:,col].groupby('City').count().reset_index()\n",
    "aux.sort_values('Restaurant ID', ascending = False).head(1)\n"
   ]
  },
  {
   "cell_type": "code",
   "execution_count": null,
   "id": "73580296",
   "metadata": {},
   "outputs": [
    {
     "data": {
      "text/html": [
       "<div>\n",
       "<style scoped>\n",
       "    .dataframe tbody tr th:only-of-type {\n",
       "        vertical-align: middle;\n",
       "    }\n",
       "\n",
       "    .dataframe tbody tr th {\n",
       "        vertical-align: top;\n",
       "    }\n",
       "\n",
       "    .dataframe thead th {\n",
       "        text-align: right;\n",
       "    }\n",
       "</style>\n",
       "<table border=\"1\" class=\"dataframe\">\n",
       "  <thead>\n",
       "    <tr style=\"text-align: right;\">\n",
       "      <th></th>\n",
       "      <th>City</th>\n",
       "      <th>Aggregate rating</th>\n",
       "    </tr>\n",
       "  </thead>\n",
       "  <tbody>\n",
       "    <tr>\n",
       "      <th>71</th>\n",
       "      <td>Muntinlupa City</td>\n",
       "      <td>4.9</td>\n",
       "    </tr>\n",
       "  </tbody>\n",
       "</table>\n",
       "</div>"
      ],
      "text/plain": [
       "               City  Aggregate rating\n",
       "71  Muntinlupa City               4.9"
      ]
     },
     "execution_count": 32,
     "metadata": {},
     "output_type": "execute_result"
    }
   ],
   "source": [
    "# 2. Qual o nome da cidade que possui mais restaurantes com nota média acima de 4?\n",
    "\n",
    "filtro = df1.loc[df1['Aggregate rating'] > 4]\n",
    "\n",
    "col = [ 'City', 'Aggregate rating']\n",
    "\n",
    "aux = filtro.loc[: , col].groupby('City').mean().reset_index()\n",
    "\n",
    "aux.sort_values('Aggregate rating', ascending = False).head(1)"
   ]
  },
  {
   "cell_type": "code",
   "execution_count": null,
   "id": "b233fe21",
   "metadata": {},
   "outputs": [
    {
     "data": {
      "text/html": [
       "<div>\n",
       "<style scoped>\n",
       "    .dataframe tbody tr th:only-of-type {\n",
       "        vertical-align: middle;\n",
       "    }\n",
       "\n",
       "    .dataframe tbody tr th {\n",
       "        vertical-align: top;\n",
       "    }\n",
       "\n",
       "    .dataframe thead th {\n",
       "        text-align: right;\n",
       "    }\n",
       "</style>\n",
       "<table border=\"1\" class=\"dataframe\">\n",
       "  <thead>\n",
       "    <tr style=\"text-align: right;\">\n",
       "      <th></th>\n",
       "      <th>City</th>\n",
       "      <th>Aggregate rating</th>\n",
       "    </tr>\n",
       "  </thead>\n",
       "  <tbody>\n",
       "    <tr>\n",
       "      <th>7</th>\n",
       "      <td>Hamilton</td>\n",
       "      <td>2.35</td>\n",
       "    </tr>\n",
       "  </tbody>\n",
       "</table>\n",
       "</div>"
      ],
      "text/plain": [
       "       City  Aggregate rating\n",
       "7  Hamilton              2.35"
      ]
     },
     "execution_count": 33,
     "metadata": {},
     "output_type": "execute_result"
    }
   ],
   "source": [
    "# 3. Qual o nome da cidade que possui mais restaurantes com nota média abaixo de 2.5?\n",
    "\n",
    "filtro = df1.loc[df1['Aggregate rating'] < 2.5]\n",
    "\n",
    "col = [ 'City', 'Aggregate rating']\n",
    "\n",
    "aux = filtro.loc[: , col].groupby('City').mean().reset_index()\n",
    "\n",
    "aux.sort_values('Aggregate rating', ascending = False).head(1)"
   ]
  },
  {
   "cell_type": "code",
   "execution_count": null,
   "id": "3c149625",
   "metadata": {},
   "outputs": [
    {
     "data": {
      "text/html": [
       "<div>\n",
       "<style scoped>\n",
       "    .dataframe tbody tr th:only-of-type {\n",
       "        vertical-align: middle;\n",
       "    }\n",
       "\n",
       "    .dataframe tbody tr th {\n",
       "        vertical-align: top;\n",
       "    }\n",
       "\n",
       "    .dataframe thead th {\n",
       "        text-align: right;\n",
       "    }\n",
       "</style>\n",
       "<table border=\"1\" class=\"dataframe\">\n",
       "  <thead>\n",
       "    <tr style=\"text-align: right;\">\n",
       "      <th></th>\n",
       "      <th>City</th>\n",
       "      <th>Aggregate rating</th>\n",
       "    </tr>\n",
       "  </thead>\n",
       "  <tbody>\n",
       "    <tr>\n",
       "      <th>74</th>\n",
       "      <td>Muntinlupa City</td>\n",
       "      <td>4.9</td>\n",
       "    </tr>\n",
       "  </tbody>\n",
       "</table>\n",
       "</div>"
      ],
      "text/plain": [
       "               City  Aggregate rating\n",
       "74  Muntinlupa City               4.9"
      ]
     },
     "execution_count": 34,
     "metadata": {},
     "output_type": "execute_result"
    }
   ],
   "source": [
    "# 4. Qual o nome da cidade que possui o maior valor médio de um prato para dois?\n",
    "\n",
    "col = ['Aggregate rating', 'City']\n",
    "\n",
    "aux = df1.loc[: , col].groupby(\"City\").mean().reset_index()\n",
    "\n",
    "aux.sort_values(\"Aggregate rating\", ascending = False).head(1)"
   ]
  },
  {
   "cell_type": "code",
   "execution_count": null,
   "id": "ebb7a95a",
   "metadata": {},
   "outputs": [
    {
     "data": {
      "text/html": [
       "<div>\n",
       "<style scoped>\n",
       "    .dataframe tbody tr th:only-of-type {\n",
       "        vertical-align: middle;\n",
       "    }\n",
       "\n",
       "    .dataframe tbody tr th {\n",
       "        vertical-align: top;\n",
       "    }\n",
       "\n",
       "    .dataframe thead th {\n",
       "        text-align: right;\n",
       "    }\n",
       "</style>\n",
       "<table border=\"1\" class=\"dataframe\">\n",
       "  <thead>\n",
       "    <tr style=\"text-align: right;\">\n",
       "      <th></th>\n",
       "      <th>City</th>\n",
       "      <th>Cuisines</th>\n",
       "    </tr>\n",
       "  </thead>\n",
       "  <tbody>\n",
       "    <tr>\n",
       "      <th>14</th>\n",
       "      <td>Birmingham</td>\n",
       "      <td>32</td>\n",
       "    </tr>\n",
       "  </tbody>\n",
       "</table>\n",
       "</div>"
      ],
      "text/plain": [
       "          City  Cuisines\n",
       "14  Birmingham        32"
      ]
     },
     "execution_count": 35,
     "metadata": {},
     "output_type": "execute_result"
    }
   ],
   "source": [
    "# 5. Qual o nome da cidade que possui a maior quantidade de tipos de culinária distintas?\n",
    "\n",
    "col = ['Cuisines', 'City']\n",
    "\n",
    "aux = df1.loc[: , col].groupby(\"City\").nunique().reset_index()\n",
    "\n",
    "aux.sort_values(\"Cuisines\", ascending = False).head(1)\n"
   ]
  },
  {
   "cell_type": "code",
   "execution_count": null,
   "id": "6e3b65ac",
   "metadata": {},
   "outputs": [
    {
     "data": {
      "text/html": [
       "<div>\n",
       "<style scoped>\n",
       "    .dataframe tbody tr th:only-of-type {\n",
       "        vertical-align: middle;\n",
       "    }\n",
       "\n",
       "    .dataframe tbody tr th {\n",
       "        vertical-align: top;\n",
       "    }\n",
       "\n",
       "    .dataframe thead th {\n",
       "        text-align: right;\n",
       "    }\n",
       "</style>\n",
       "<table border=\"1\" class=\"dataframe\">\n",
       "  <thead>\n",
       "    <tr style=\"text-align: right;\">\n",
       "      <th></th>\n",
       "      <th>City</th>\n",
       "      <th>Restaurant ID</th>\n",
       "    </tr>\n",
       "  </thead>\n",
       "  <tbody>\n",
       "    <tr>\n",
       "      <th>8</th>\n",
       "      <td>Bangalore</td>\n",
       "      <td>47</td>\n",
       "    </tr>\n",
       "  </tbody>\n",
       "</table>\n",
       "</div>"
      ],
      "text/plain": [
       "        City  Restaurant ID\n",
       "8  Bangalore             47"
      ]
     },
     "execution_count": 36,
     "metadata": {},
     "output_type": "execute_result"
    }
   ],
   "source": [
    "# 6. Qual o nome da cidade que possui a maior quantidade de restaurantes que fazem reservas?\n",
    "\n",
    "col = ['City', 'Restaurant ID']\n",
    "\n",
    "filtro = df1.loc[df1['Has Table booking'] == 1]\n",
    "\n",
    "aux = filtro.loc[: , col].groupby('City').count().reset_index()\n",
    "\n",
    "# Ordena os Valores por Cidade, o ascending = False organiza em ordem decrescente, head tras os primeiros elementos\n",
    "aux.sort_values('Restaurant ID', ascending= False).head(1)\n"
   ]
  },
  {
   "cell_type": "code",
   "execution_count": null,
   "id": "ab17a5f7",
   "metadata": {},
   "outputs": [
    {
     "data": {
      "text/html": [
       "<div>\n",
       "<style scoped>\n",
       "    .dataframe tbody tr th:only-of-type {\n",
       "        vertical-align: middle;\n",
       "    }\n",
       "\n",
       "    .dataframe tbody tr th {\n",
       "        vertical-align: top;\n",
       "    }\n",
       "\n",
       "    .dataframe thead th {\n",
       "        text-align: right;\n",
       "    }\n",
       "</style>\n",
       "<table border=\"1\" class=\"dataframe\">\n",
       "  <thead>\n",
       "    <tr style=\"text-align: right;\">\n",
       "      <th></th>\n",
       "      <th>City</th>\n",
       "      <th>Restaurant ID</th>\n",
       "    </tr>\n",
       "  </thead>\n",
       "  <tbody>\n",
       "    <tr>\n",
       "      <th>0</th>\n",
       "      <td>Abu Dhabi</td>\n",
       "      <td>86</td>\n",
       "    </tr>\n",
       "  </tbody>\n",
       "</table>\n",
       "</div>"
      ],
      "text/plain": [
       "        City  Restaurant ID\n",
       "0  Abu Dhabi             86"
      ]
     },
     "execution_count": 37,
     "metadata": {},
     "output_type": "execute_result"
    }
   ],
   "source": [
    "# 7. Qual o nome da cidade que possui a maior quantidade de restaurantes que fazem entregas?\n",
    "\n",
    "col = ['City' , 'Restaurant ID' ]\n",
    "\n",
    "filtro = df1.loc[(df1['Is delivering now'] == 1) | (df1['Has Online delivery'] == 1)]\n",
    "\n",
    "aux = filtro.loc[: , col].groupby('City').count().reset_index()\n",
    "\n",
    "# Ordena os Valores por Cidade, o ascending = False organiza em ordem decrescente, head tras os primeiros elementos\n",
    "aux.sort_values('Restaurant ID', ascending= False).head(1)\n"
   ]
  },
  {
   "cell_type": "code",
   "execution_count": null,
   "id": "68993582",
   "metadata": {},
   "outputs": [
    {
     "data": {
      "text/html": [
       "<div>\n",
       "<style scoped>\n",
       "    .dataframe tbody tr th:only-of-type {\n",
       "        vertical-align: middle;\n",
       "    }\n",
       "\n",
       "    .dataframe tbody tr th {\n",
       "        vertical-align: top;\n",
       "    }\n",
       "\n",
       "    .dataframe thead th {\n",
       "        text-align: right;\n",
       "    }\n",
       "</style>\n",
       "<table border=\"1\" class=\"dataframe\">\n",
       "  <thead>\n",
       "    <tr style=\"text-align: right;\">\n",
       "      <th></th>\n",
       "      <th>City</th>\n",
       "      <th>Restaurant ID</th>\n",
       "    </tr>\n",
       "  </thead>\n",
       "  <tbody>\n",
       "    <tr>\n",
       "      <th>0</th>\n",
       "      <td>Abu Dhabi</td>\n",
       "      <td>86</td>\n",
       "    </tr>\n",
       "  </tbody>\n",
       "</table>\n",
       "</div>"
      ],
      "text/plain": [
       "        City  Restaurant ID\n",
       "0  Abu Dhabi             86"
      ]
     },
     "execution_count": 38,
     "metadata": {},
     "output_type": "execute_result"
    }
   ],
   "source": [
    "# 8. Qual o nome da cidade que possui a maior quantidade de restaurantes que aceitam pedidos online?\n",
    "\n",
    "col = ['City' , 'Restaurant ID' ]\n",
    "\n",
    "filtro = df1.loc[(df1['Has Online delivery'] == 1)]\n",
    "\n",
    "aux = filtro.loc[: , col].groupby('City').count().reset_index()\n",
    "\n",
    "# Ordena os Valores por Cidade, o ascending = False organiza em ordem decrescente, head tras os primeiros elementos\n",
    "aux.sort_values('Restaurant ID', ascending= False).head(1)"
   ]
  },
  {
   "cell_type": "markdown",
   "id": "506c708e",
   "metadata": {},
   "source": [
    "# Restaurantes"
   ]
  },
  {
   "cell_type": "code",
   "execution_count": null,
   "id": "a6e13268",
   "metadata": {},
   "outputs": [
    {
     "data": {
      "text/html": [
       "<div>\n",
       "<style scoped>\n",
       "    .dataframe tbody tr th:only-of-type {\n",
       "        vertical-align: middle;\n",
       "    }\n",
       "\n",
       "    .dataframe tbody tr th {\n",
       "        vertical-align: top;\n",
       "    }\n",
       "\n",
       "    .dataframe thead th {\n",
       "        text-align: right;\n",
       "    }\n",
       "</style>\n",
       "<table border=\"1\" class=\"dataframe\">\n",
       "  <thead>\n",
       "    <tr style=\"text-align: right;\">\n",
       "      <th></th>\n",
       "      <th>Restaurant Name</th>\n",
       "      <th>Votes</th>\n",
       "    </tr>\n",
       "  </thead>\n",
       "  <tbody>\n",
       "    <tr>\n",
       "      <th>0</th>\n",
       "      <td>Bawarchi</td>\n",
       "      <td>41333</td>\n",
       "    </tr>\n",
       "  </tbody>\n",
       "</table>\n",
       "</div>"
      ],
      "text/plain": [
       "  Restaurant Name  Votes\n",
       "0        Bawarchi  41333"
      ]
     },
     "execution_count": 39,
     "metadata": {},
     "output_type": "execute_result"
    }
   ],
   "source": [
    "# 1. Qual o nome do restaurante que possui a maior quantidade de avaliações?\n",
    "\n",
    "filtro = df1['Votes'].max()\n",
    "\n",
    "aux = df1.loc[df1['Votes'] == filtro].reset_index()\n",
    "\n",
    "aux[[\"Restaurant Name\", \"Votes\"]]"
   ]
  },
  {
   "cell_type": "code",
   "execution_count": null,
   "id": "f32c357f",
   "metadata": {},
   "outputs": [
    {
     "data": {
      "text/html": [
       "<div>\n",
       "<style scoped>\n",
       "    .dataframe tbody tr th:only-of-type {\n",
       "        vertical-align: middle;\n",
       "    }\n",
       "\n",
       "    .dataframe tbody tr th {\n",
       "        vertical-align: top;\n",
       "    }\n",
       "\n",
       "    .dataframe thead th {\n",
       "        text-align: right;\n",
       "    }\n",
       "</style>\n",
       "<table border=\"1\" class=\"dataframe\">\n",
       "  <thead>\n",
       "    <tr style=\"text-align: right;\">\n",
       "      <th></th>\n",
       "      <th>Restaurant Name</th>\n",
       "      <th>Aggregate rating</th>\n",
       "    </tr>\n",
       "  </thead>\n",
       "  <tbody>\n",
       "    <tr>\n",
       "      <th>1580</th>\n",
       "      <td>Earl of Sandwich</td>\n",
       "      <td>4.9</td>\n",
       "    </tr>\n",
       "    <tr>\n",
       "      <th>2100</th>\n",
       "      <td>Guillermo's</td>\n",
       "      <td>4.9</td>\n",
       "    </tr>\n",
       "    <tr>\n",
       "      <th>400</th>\n",
       "      <td>Bakery Nouveau</td>\n",
       "      <td>4.9</td>\n",
       "    </tr>\n",
       "    <tr>\n",
       "      <th>3570</th>\n",
       "      <td>Noble Fish</td>\n",
       "      <td>4.9</td>\n",
       "    </tr>\n",
       "    <tr>\n",
       "      <th>4341</th>\n",
       "      <td>Samurai</td>\n",
       "      <td>4.9</td>\n",
       "    </tr>\n",
       "  </tbody>\n",
       "</table>\n",
       "</div>"
      ],
      "text/plain": [
       "       Restaurant Name  Aggregate rating\n",
       "1580  Earl of Sandwich               4.9\n",
       "2100       Guillermo's               4.9\n",
       "400     Bakery Nouveau               4.9\n",
       "3570        Noble Fish               4.9\n",
       "4341           Samurai               4.9"
      ]
     },
     "execution_count": 40,
     "metadata": {},
     "output_type": "execute_result"
    }
   ],
   "source": [
    "# 2. Qual o nome do restaurante com a maior nota média?\n",
    "\n",
    "col = ['Restaurant Name' , 'Aggregate rating']\n",
    "\n",
    "df1[col].groupby('Restaurant Name').mean().reset_index().sort_values('Aggregate rating', ascending = False).head(5)\n",
    "\n",
    "#São muitos, mais de 5"
   ]
  },
  {
   "cell_type": "code",
   "execution_count": null,
   "id": "3fd7858d",
   "metadata": {},
   "outputs": [
    {
     "data": {
      "text/html": [
       "<div>\n",
       "<style scoped>\n",
       "    .dataframe tbody tr th:only-of-type {\n",
       "        vertical-align: middle;\n",
       "    }\n",
       "\n",
       "    .dataframe tbody tr th {\n",
       "        vertical-align: top;\n",
       "    }\n",
       "\n",
       "    .dataframe thead th {\n",
       "        text-align: right;\n",
       "    }\n",
       "</style>\n",
       "<table border=\"1\" class=\"dataframe\">\n",
       "  <thead>\n",
       "    <tr style=\"text-align: right;\">\n",
       "      <th></th>\n",
       "      <th>Restaurant Name</th>\n",
       "      <th>Average Cost for two</th>\n",
       "    </tr>\n",
       "  </thead>\n",
       "  <tbody>\n",
       "    <tr>\n",
       "      <th>5896</th>\n",
       "      <td>d'Arry's Verandah Restaurant</td>\n",
       "      <td>25000017</td>\n",
       "    </tr>\n",
       "  </tbody>\n",
       "</table>\n",
       "</div>"
      ],
      "text/plain": [
       "                   Restaurant Name  Average Cost for two\n",
       "5896  d'Arry's Verandah Restaurant              25000017"
      ]
     },
     "execution_count": 41,
     "metadata": {},
     "output_type": "execute_result"
    }
   ],
   "source": [
    "# 3. Qual o nome do restaurante que possui o maior valor de uma prato para duas\n",
    "# pessoas?\n",
    "\n",
    "\n",
    "col = ['Restaurant Name' , 'Average Cost for two']\n",
    "\n",
    "df1[col].groupby('Restaurant Name').max().reset_index().sort_values('Average Cost for two', ascending = False).head(1)\n"
   ]
  },
  {
   "cell_type": "code",
   "execution_count": null,
   "id": "bdc4d930",
   "metadata": {},
   "outputs": [
    {
     "data": {
      "text/html": [
       "<div>\n",
       "<style scoped>\n",
       "    .dataframe tbody tr th:only-of-type {\n",
       "        vertical-align: middle;\n",
       "    }\n",
       "\n",
       "    .dataframe tbody tr th {\n",
       "        vertical-align: top;\n",
       "    }\n",
       "\n",
       "    .dataframe thead th {\n",
       "        text-align: right;\n",
       "    }\n",
       "</style>\n",
       "<table border=\"1\" class=\"dataframe\">\n",
       "  <thead>\n",
       "    <tr style=\"text-align: right;\">\n",
       "      <th></th>\n",
       "      <th>Restaurant Name</th>\n",
       "      <th>Aggregate rating</th>\n",
       "    </tr>\n",
       "  </thead>\n",
       "  <tbody>\n",
       "    <tr>\n",
       "      <th>15</th>\n",
       "      <td>Braseiro da Gávea</td>\n",
       "      <td>4.9</td>\n",
       "    </tr>\n",
       "    <tr>\n",
       "      <th>2</th>\n",
       "      <td>Aprazível</td>\n",
       "      <td>4.9</td>\n",
       "    </tr>\n",
       "    <tr>\n",
       "      <th>48</th>\n",
       "      <td>Ola Brasil Restaurant</td>\n",
       "      <td>4.9</td>\n",
       "    </tr>\n",
       "  </tbody>\n",
       "</table>\n",
       "</div>"
      ],
      "text/plain": [
       "          Restaurant Name  Aggregate rating\n",
       "15      Braseiro da Gávea               4.9\n",
       "2               Aprazível               4.9\n",
       "48  Ola Brasil Restaurant               4.9"
      ]
     },
     "execution_count": 42,
     "metadata": {},
     "output_type": "execute_result"
    }
   ],
   "source": [
    "# 4. Qual o nome do restaurante de tipo de culinária brasileira que possui a menor\n",
    "# média de avaliação?\n",
    "\n",
    "\n",
    "col = ['Restaurant Name' , 'Aggregate rating']\n",
    "\n",
    "filtro = df1.loc[(df1['Cuisines'] == 'Brazilian'), col]\n",
    "\n",
    "filtro.groupby(\"Restaurant Name\").mean().reset_index().sort_values('Aggregate rating', ascending = False).head(3)\n",
    "\n",
    "\n",
    "# Verificar o ID mais antigo\n"
   ]
  },
  {
   "cell_type": "code",
   "execution_count": null,
   "id": "23bba9e5",
   "metadata": {},
   "outputs": [
    {
     "data": {
      "text/html": [
       "<div>\n",
       "<style scoped>\n",
       "    .dataframe tbody tr th:only-of-type {\n",
       "        vertical-align: middle;\n",
       "    }\n",
       "\n",
       "    .dataframe tbody tr th {\n",
       "        vertical-align: top;\n",
       "    }\n",
       "\n",
       "    .dataframe thead th {\n",
       "        text-align: right;\n",
       "    }\n",
       "</style>\n",
       "<table border=\"1\" class=\"dataframe\">\n",
       "  <thead>\n",
       "    <tr style=\"text-align: right;\">\n",
       "      <th></th>\n",
       "      <th>Restaurant Name</th>\n",
       "      <th>Aggregate rating</th>\n",
       "    </tr>\n",
       "  </thead>\n",
       "  <tbody>\n",
       "    <tr>\n",
       "      <th>12</th>\n",
       "      <td>Braseiro da Gávea</td>\n",
       "      <td>4.9</td>\n",
       "    </tr>\n",
       "    <tr>\n",
       "      <th>2</th>\n",
       "      <td>Aprazível</td>\n",
       "      <td>4.9</td>\n",
       "    </tr>\n",
       "  </tbody>\n",
       "</table>\n",
       "</div>"
      ],
      "text/plain": [
       "      Restaurant Name  Aggregate rating\n",
       "12  Braseiro da Gávea               4.9\n",
       "2           Aprazível               4.9"
      ]
     },
     "execution_count": 43,
     "metadata": {},
     "output_type": "execute_result"
    }
   ],
   "source": [
    "# 5. Qual o nome do restaurante de tipo de culinária brasileira, e que é do Brasil, que\n",
    "# possui a maior média de avaliação?\n",
    "\n",
    "col = ['Restaurant Name' , 'Aggregate rating']\n",
    "\n",
    "filtro = df1.loc[(df1['Cuisines'] == 'Brazilian') & (df1['Country Code'] == 30), col]\n",
    "\n",
    "filtro.groupby(\"Restaurant Name\").mean().reset_index().sort_values('Aggregate rating', ascending = False).head(2)\n"
   ]
  },
  {
   "cell_type": "code",
   "execution_count": null,
   "id": "3396ba75",
   "metadata": {},
   "outputs": [
    {
     "data": {
      "text/html": [
       "<div>\n",
       "<style scoped>\n",
       "    .dataframe tbody tr th:only-of-type {\n",
       "        vertical-align: middle;\n",
       "    }\n",
       "\n",
       "    .dataframe tbody tr th {\n",
       "        vertical-align: top;\n",
       "    }\n",
       "\n",
       "    .dataframe thead th {\n",
       "        text-align: right;\n",
       "    }\n",
       "</style>\n",
       "<table border=\"1\" class=\"dataframe\">\n",
       "  <thead>\n",
       "    <tr style=\"text-align: right;\">\n",
       "      <th></th>\n",
       "      <th>Has Online delivery</th>\n",
       "      <th>Votes</th>\n",
       "    </tr>\n",
       "  </thead>\n",
       "  <tbody>\n",
       "    <tr>\n",
       "      <th>0</th>\n",
       "      <td>0</td>\n",
       "      <td>4874</td>\n",
       "    </tr>\n",
       "    <tr>\n",
       "      <th>1</th>\n",
       "      <td>1</td>\n",
       "      <td>2653</td>\n",
       "    </tr>\n",
       "  </tbody>\n",
       "</table>\n",
       "</div>"
      ],
      "text/plain": [
       "   Has Online delivery  Votes\n",
       "0                    0   4874\n",
       "1                    1   2653"
      ]
     },
     "execution_count": 44,
     "metadata": {},
     "output_type": "execute_result"
    }
   ],
   "source": [
    "# 6. Os restaurantes que aceitam pedido online são também, na média, os restaurantes que mais possuem avaliações registradas?\n",
    "\n",
    "\n",
    "col = ['Has Online delivery', 'Votes', ]\n",
    "\n",
    "df1.loc[: , col].groupby(\"Has Online delivery\").count().reset_index()\n",
    "\n"
   ]
  },
  {
   "cell_type": "code",
   "execution_count": null,
   "id": "f34d0bc5",
   "metadata": {},
   "outputs": [
    {
     "data": {
      "text/html": [
       "<div>\n",
       "<style scoped>\n",
       "    .dataframe tbody tr th:only-of-type {\n",
       "        vertical-align: middle;\n",
       "    }\n",
       "\n",
       "    .dataframe tbody tr th {\n",
       "        vertical-align: top;\n",
       "    }\n",
       "\n",
       "    .dataframe thead th {\n",
       "        text-align: right;\n",
       "    }\n",
       "</style>\n",
       "<table border=\"1\" class=\"dataframe\">\n",
       "  <thead>\n",
       "    <tr style=\"text-align: right;\">\n",
       "      <th></th>\n",
       "      <th>Has Table booking</th>\n",
       "      <th>Aggregate rating</th>\n",
       "    </tr>\n",
       "  </thead>\n",
       "  <tbody>\n",
       "    <tr>\n",
       "      <th>0</th>\n",
       "      <td>0</td>\n",
       "      <td>4.100014</td>\n",
       "    </tr>\n",
       "    <tr>\n",
       "      <th>1</th>\n",
       "      <td>1</td>\n",
       "      <td>4.390171</td>\n",
       "    </tr>\n",
       "  </tbody>\n",
       "</table>\n",
       "</div>"
      ],
      "text/plain": [
       "   Has Table booking  Aggregate rating\n",
       "0                  0          4.100014\n",
       "1                  1          4.390171"
      ]
     },
     "execution_count": 45,
     "metadata": {},
     "output_type": "execute_result"
    }
   ],
   "source": [
    "# 7. Os restaurantes que fazem reservas são também, na média, os restaurantes que\n",
    "# possuem o maior valor médio de um prato para duas pessoas?\n",
    "\n",
    "col = ['Has Table booking', 'Aggregate rating', ]\n",
    "\n",
    "df1.loc[: , col].groupby(\"Has Table booking\").mean().reset_index()\n"
   ]
  },
  {
   "cell_type": "code",
   "execution_count": null,
   "id": "98464d03",
   "metadata": {},
   "outputs": [
    {
     "data": {
      "text/html": [
       "<div>\n",
       "<style scoped>\n",
       "    .dataframe tbody tr th:only-of-type {\n",
       "        vertical-align: middle;\n",
       "    }\n",
       "\n",
       "    .dataframe tbody tr th {\n",
       "        vertical-align: top;\n",
       "    }\n",
       "\n",
       "    .dataframe thead th {\n",
       "        text-align: right;\n",
       "    }\n",
       "</style>\n",
       "<table border=\"1\" class=\"dataframe\">\n",
       "  <thead>\n",
       "    <tr style=\"text-align: right;\">\n",
       "      <th></th>\n",
       "      <th>Cuisines</th>\n",
       "      <th>Average Cost for two</th>\n",
       "    </tr>\n",
       "  </thead>\n",
       "  <tbody>\n",
       "    <tr>\n",
       "      <th>0</th>\n",
       "      <td>BBQ</td>\n",
       "      <td>13708.656716</td>\n",
       "    </tr>\n",
       "    <tr>\n",
       "      <th>1</th>\n",
       "      <td>Japanese</td>\n",
       "      <td>56.406250</td>\n",
       "    </tr>\n",
       "  </tbody>\n",
       "</table>\n",
       "</div>"
      ],
      "text/plain": [
       "   Cuisines  Average Cost for two\n",
       "0       BBQ          13708.656716\n",
       "1  Japanese             56.406250"
      ]
     },
     "execution_count": 46,
     "metadata": {},
     "output_type": "execute_result"
    }
   ],
   "source": [
    "# 8. Os restaurantes do tipo de culinária japonesa dos Estados Unidos da América\n",
    "# possuem um valor médio de prato para duas pessoas maior que as churrascarias americanas (BBQ)?\n",
    "\n",
    "col = ['Average Cost for two', 'Cuisines']\n",
    "\n",
    "filtro = df1.loc[(df1['Cuisines'] == 'Japanese') & (df1['Country Code'] == 216) | (df1['Cuisines'] == 'BBQ')]\n",
    "\n",
    "filtro.loc[: , col].groupby(\"Cuisines\").mean().reset_index()\n",
    "\n"
   ]
  },
  {
   "cell_type": "code",
   "execution_count": null,
   "id": "73055b58",
   "metadata": {},
   "outputs": [],
   "source": []
  },
  {
   "cell_type": "markdown",
   "id": "c19b56db",
   "metadata": {},
   "source": [
    "# Tipos de Culinária"
   ]
  },
  {
   "cell_type": "code",
   "execution_count": null,
   "id": "bec1245e",
   "metadata": {},
   "outputs": [
    {
     "data": {
      "text/html": [
       "<div>\n",
       "<style scoped>\n",
       "    .dataframe tbody tr th:only-of-type {\n",
       "        vertical-align: middle;\n",
       "    }\n",
       "\n",
       "    .dataframe tbody tr th {\n",
       "        vertical-align: top;\n",
       "    }\n",
       "\n",
       "    .dataframe thead th {\n",
       "        text-align: right;\n",
       "    }\n",
       "</style>\n",
       "<table border=\"1\" class=\"dataframe\">\n",
       "  <thead>\n",
       "    <tr style=\"text-align: right;\">\n",
       "      <th></th>\n",
       "      <th>Restaurant Name</th>\n",
       "      <th>Aggregate rating</th>\n",
       "    </tr>\n",
       "  </thead>\n",
       "  <tbody>\n",
       "    <tr>\n",
       "      <th>62</th>\n",
       "      <td>Central Grocery</td>\n",
       "      <td>4.9</td>\n",
       "    </tr>\n",
       "    <tr>\n",
       "      <th>12</th>\n",
       "      <td>Andre's Cucina &amp; Polenta Bar</td>\n",
       "      <td>4.9</td>\n",
       "    </tr>\n",
       "    <tr>\n",
       "      <th>297</th>\n",
       "      <td>The Parlor Pizzeria</td>\n",
       "      <td>4.9</td>\n",
       "    </tr>\n",
       "    <tr>\n",
       "      <th>61</th>\n",
       "      <td>Celino's</td>\n",
       "      <td>4.9</td>\n",
       "    </tr>\n",
       "    <tr>\n",
       "      <th>63</th>\n",
       "      <td>Cerroni's Purple Garlic</td>\n",
       "      <td>4.9</td>\n",
       "    </tr>\n",
       "    <tr>\n",
       "      <th>66</th>\n",
       "      <td>Chicago Pizza &amp; Oven Grinder Company</td>\n",
       "      <td>4.9</td>\n",
       "    </tr>\n",
       "    <tr>\n",
       "      <th>245</th>\n",
       "      <td>Regina Pizzeria</td>\n",
       "      <td>4.9</td>\n",
       "    </tr>\n",
       "    <tr>\n",
       "      <th>188</th>\n",
       "      <td>Ombra</td>\n",
       "      <td>4.9</td>\n",
       "    </tr>\n",
       "    <tr>\n",
       "      <th>36</th>\n",
       "      <td>Bottega Louie</td>\n",
       "      <td>4.9</td>\n",
       "    </tr>\n",
       "    <tr>\n",
       "      <th>32</th>\n",
       "      <td>Big Bill's</td>\n",
       "      <td>4.9</td>\n",
       "    </tr>\n",
       "    <tr>\n",
       "      <th>196</th>\n",
       "      <td>Osteria Marco</td>\n",
       "      <td>4.9</td>\n",
       "    </tr>\n",
       "    <tr>\n",
       "      <th>208</th>\n",
       "      <td>Perricone's Marketplace &amp; Café</td>\n",
       "      <td>4.9</td>\n",
       "    </tr>\n",
       "    <tr>\n",
       "      <th>85</th>\n",
       "      <td>Di Rienzo Grocery &amp; Deli</td>\n",
       "      <td>4.9</td>\n",
       "    </tr>\n",
       "    <tr>\n",
       "      <th>121</th>\n",
       "      <td>Guillermo's</td>\n",
       "      <td>4.9</td>\n",
       "    </tr>\n",
       "    <tr>\n",
       "      <th>9</th>\n",
       "      <td>Amano Restaurant</td>\n",
       "      <td>4.9</td>\n",
       "    </tr>\n",
       "    <tr>\n",
       "      <th>44</th>\n",
       "      <td>Cafe Del Sol Classico</td>\n",
       "      <td>4.9</td>\n",
       "    </tr>\n",
       "    <tr>\n",
       "      <th>337</th>\n",
       "      <td>Zolocrust - Hotel Clarks Amer</td>\n",
       "      <td>4.9</td>\n",
       "    </tr>\n",
       "  </tbody>\n",
       "</table>\n",
       "</div>"
      ],
      "text/plain": [
       "                          Restaurant Name  Aggregate rating\n",
       "62                        Central Grocery               4.9\n",
       "12           Andre's Cucina & Polenta Bar               4.9\n",
       "297                   The Parlor Pizzeria               4.9\n",
       "61                               Celino's               4.9\n",
       "63                Cerroni's Purple Garlic               4.9\n",
       "66   Chicago Pizza & Oven Grinder Company               4.9\n",
       "245                       Regina Pizzeria               4.9\n",
       "188                                 Ombra               4.9\n",
       "36                          Bottega Louie               4.9\n",
       "32                             Big Bill's               4.9\n",
       "196                         Osteria Marco               4.9\n",
       "208        Perricone's Marketplace & Café               4.9\n",
       "85               Di Rienzo Grocery & Deli               4.9\n",
       "121                           Guillermo's               4.9\n",
       "9                        Amano Restaurant               4.9\n",
       "44                  Cafe Del Sol Classico               4.9\n",
       "337         Zolocrust - Hotel Clarks Amer               4.9"
      ]
     },
     "execution_count": 47,
     "metadata": {},
     "output_type": "execute_result"
    }
   ],
   "source": [
    "# 1. Dos restaurantes que possuem o tipo de culinária italiana, qual o nome do\n",
    "# restaurante com a maior média de avaliação?\n",
    "\n",
    "col = [\"Restaurant Name\" , 'Aggregate rating']\n",
    "\n",
    "filtro = df1.loc[df1[\"Cuisines\"] == \"Italian\"]\n",
    "\n",
    "filtro.loc[: , col].groupby('Restaurant Name').mean().reset_index().sort_values('Aggregate rating', ascending = False).head(17)\n",
    "\n"
   ]
  },
  {
   "cell_type": "code",
   "execution_count": null,
   "id": "97340cb8",
   "metadata": {},
   "outputs": [
    {
     "data": {
      "text/html": [
       "<div>\n",
       "<style scoped>\n",
       "    .dataframe tbody tr th:only-of-type {\n",
       "        vertical-align: middle;\n",
       "    }\n",
       "\n",
       "    .dataframe tbody tr th {\n",
       "        vertical-align: top;\n",
       "    }\n",
       "\n",
       "    .dataframe thead th {\n",
       "        text-align: right;\n",
       "    }\n",
       "</style>\n",
       "<table border=\"1\" class=\"dataframe\">\n",
       "  <thead>\n",
       "    <tr style=\"text-align: right;\">\n",
       "      <th></th>\n",
       "      <th>Restaurant Name</th>\n",
       "      <th>Aggregate rating</th>\n",
       "    </tr>\n",
       "  </thead>\n",
       "  <tbody>\n",
       "    <tr>\n",
       "      <th>141</th>\n",
       "      <td>La Bocca Bar e Trattoria</td>\n",
       "      <td>0.0</td>\n",
       "    </tr>\n",
       "    <tr>\n",
       "      <th>154</th>\n",
       "      <td>Le Delicatezze Di Bruno</td>\n",
       "      <td>0.0</td>\n",
       "    </tr>\n",
       "    <tr>\n",
       "      <th>227</th>\n",
       "      <td>Più</td>\n",
       "      <td>0.0</td>\n",
       "    </tr>\n",
       "    <tr>\n",
       "      <th>250</th>\n",
       "      <td>Ristorantino</td>\n",
       "      <td>0.0</td>\n",
       "    </tr>\n",
       "    <tr>\n",
       "      <th>298</th>\n",
       "      <td>The Pasta Factory</td>\n",
       "      <td>0.0</td>\n",
       "    </tr>\n",
       "    <tr>\n",
       "      <th>30</th>\n",
       "      <td>Bene - Sheraton Rio Hotel</td>\n",
       "      <td>0.0</td>\n",
       "    </tr>\n",
       "    <tr>\n",
       "      <th>318</th>\n",
       "      <td>Veeno</td>\n",
       "      <td>0.0</td>\n",
       "    </tr>\n",
       "    <tr>\n",
       "      <th>17</th>\n",
       "      <td>Avenida Paulista</td>\n",
       "      <td>0.0</td>\n",
       "    </tr>\n",
       "    <tr>\n",
       "      <th>274</th>\n",
       "      <td>Siena's</td>\n",
       "      <td>2.3</td>\n",
       "    </tr>\n",
       "  </tbody>\n",
       "</table>\n",
       "</div>"
      ],
      "text/plain": [
       "               Restaurant Name  Aggregate rating\n",
       "141   La Bocca Bar e Trattoria               0.0\n",
       "154    Le Delicatezze Di Bruno               0.0\n",
       "227                        Più               0.0\n",
       "250               Ristorantino               0.0\n",
       "298          The Pasta Factory               0.0\n",
       "30   Bene - Sheraton Rio Hotel               0.0\n",
       "318                      Veeno               0.0\n",
       "17            Avenida Paulista               0.0\n",
       "274                    Siena's               2.3"
      ]
     },
     "execution_count": 48,
     "metadata": {},
     "output_type": "execute_result"
    }
   ],
   "source": [
    "# 2. Dos restaurantes que possuem o tipo de culinária italiana, qual o nome do\n",
    "# restaurante com a menor média de avaliação?\n",
    "\n",
    "col = [\"Restaurant Name\" , 'Aggregate rating']\n",
    "\n",
    "filtro = df1.loc[df1[\"Cuisines\"] == \"Italian\"]\n",
    "\n",
    "filtro.loc[: , col].groupby('Restaurant Name').mean().reset_index().sort_values('Aggregate rating', ascending = True).head(9)"
   ]
  },
  {
   "cell_type": "code",
   "execution_count": null,
   "id": "e6b36642",
   "metadata": {},
   "outputs": [
    {
     "data": {
      "text/html": [
       "<div>\n",
       "<style scoped>\n",
       "    .dataframe tbody tr th:only-of-type {\n",
       "        vertical-align: middle;\n",
       "    }\n",
       "\n",
       "    .dataframe tbody tr th {\n",
       "        vertical-align: top;\n",
       "    }\n",
       "\n",
       "    .dataframe thead th {\n",
       "        text-align: right;\n",
       "    }\n",
       "</style>\n",
       "<table border=\"1\" class=\"dataframe\">\n",
       "  <thead>\n",
       "    <tr style=\"text-align: right;\">\n",
       "      <th></th>\n",
       "      <th>Restaurant Name</th>\n",
       "      <th>Aggregate rating</th>\n",
       "    </tr>\n",
       "  </thead>\n",
       "  <tbody>\n",
       "    <tr>\n",
       "      <th>141</th>\n",
       "      <td>Fat Cat</td>\n",
       "      <td>4.9</td>\n",
       "    </tr>\n",
       "    <tr>\n",
       "      <th>224</th>\n",
       "      <td>Lafayette Coney Island</td>\n",
       "      <td>4.9</td>\n",
       "    </tr>\n",
       "    <tr>\n",
       "      <th>434</th>\n",
       "      <td>Union Woodshop</td>\n",
       "      <td>4.9</td>\n",
       "    </tr>\n",
       "    <tr>\n",
       "      <th>282</th>\n",
       "      <td>Park Burger</td>\n",
       "      <td>4.9</td>\n",
       "    </tr>\n",
       "    <tr>\n",
       "      <th>218</th>\n",
       "      <td>Kono's Surf Club Cafe</td>\n",
       "      <td>4.9</td>\n",
       "    </tr>\n",
       "    <tr>\n",
       "      <th>270</th>\n",
       "      <td>OEB Breakfast Co.</td>\n",
       "      <td>4.9</td>\n",
       "    </tr>\n",
       "    <tr>\n",
       "      <th>321</th>\n",
       "      <td>S'MAC</td>\n",
       "      <td>4.9</td>\n",
       "    </tr>\n",
       "    <tr>\n",
       "      <th>426</th>\n",
       "      <td>Tocabe, An American Indian Eatery</td>\n",
       "      <td>4.9</td>\n",
       "    </tr>\n",
       "    <tr>\n",
       "      <th>63</th>\n",
       "      <td>Brick Store Pub</td>\n",
       "      <td>4.9</td>\n",
       "    </tr>\n",
       "    <tr>\n",
       "      <th>118</th>\n",
       "      <td>Cut By Wolfgang Puck</td>\n",
       "      <td>4.9</td>\n",
       "    </tr>\n",
       "    <tr>\n",
       "      <th>190</th>\n",
       "      <td>Hodad's</td>\n",
       "      <td>4.9</td>\n",
       "    </tr>\n",
       "    <tr>\n",
       "      <th>423</th>\n",
       "      <td>Tiny Boxwood's</td>\n",
       "      <td>4.9</td>\n",
       "    </tr>\n",
       "    <tr>\n",
       "      <th>333</th>\n",
       "      <td>Sidetrack Bar and Grill</td>\n",
       "      <td>4.9</td>\n",
       "    </tr>\n",
       "    <tr>\n",
       "      <th>79</th>\n",
       "      <td>Cafe Muse</td>\n",
       "      <td>4.9</td>\n",
       "    </tr>\n",
       "    <tr>\n",
       "      <th>402</th>\n",
       "      <td>The Observatory</td>\n",
       "      <td>4.9</td>\n",
       "    </tr>\n",
       "    <tr>\n",
       "      <th>4</th>\n",
       "      <td>5 Napkin Burger</td>\n",
       "      <td>4.9</td>\n",
       "    </tr>\n",
       "    <tr>\n",
       "      <th>290</th>\n",
       "      <td>Portillo's Hot Dogs</td>\n",
       "      <td>4.9</td>\n",
       "    </tr>\n",
       "  </tbody>\n",
       "</table>\n",
       "</div>"
      ],
      "text/plain": [
       "                       Restaurant Name  Aggregate rating\n",
       "141                            Fat Cat               4.9\n",
       "224             Lafayette Coney Island               4.9\n",
       "434                     Union Woodshop               4.9\n",
       "282                        Park Burger               4.9\n",
       "218              Kono's Surf Club Cafe               4.9\n",
       "270                  OEB Breakfast Co.               4.9\n",
       "321                              S'MAC               4.9\n",
       "426  Tocabe, An American Indian Eatery               4.9\n",
       "63                     Brick Store Pub               4.9\n",
       "118               Cut By Wolfgang Puck               4.9\n",
       "190                            Hodad's               4.9\n",
       "423                     Tiny Boxwood's               4.9\n",
       "333            Sidetrack Bar and Grill               4.9\n",
       "79                           Cafe Muse               4.9\n",
       "402                    The Observatory               4.9\n",
       "4                      5 Napkin Burger               4.9\n",
       "290                Portillo's Hot Dogs               4.9"
      ]
     },
     "execution_count": 49,
     "metadata": {},
     "output_type": "execute_result"
    }
   ],
   "source": [
    "# 3. Dos restaurantes que possuem o tipo de culinária americana, qual o nome do\n",
    "# restaurante com a maior média de avaliação?\n",
    "\n",
    "col = [\"Restaurant Name\" , 'Aggregate rating']\n",
    "\n",
    "filtro = df1.loc[df1[\"Cuisines\"] == 'American']\n",
    "\n",
    "filtro.loc[: , col].groupby('Restaurant Name').mean().reset_index().sort_values('Aggregate rating', ascending = False).head(17)"
   ]
  },
  {
   "cell_type": "code",
   "execution_count": null,
   "id": "9d99a226",
   "metadata": {},
   "outputs": [
    {
     "data": {
      "text/html": [
       "<div>\n",
       "<style scoped>\n",
       "    .dataframe tbody tr th:only-of-type {\n",
       "        vertical-align: middle;\n",
       "    }\n",
       "\n",
       "    .dataframe tbody tr th {\n",
       "        vertical-align: top;\n",
       "    }\n",
       "\n",
       "    .dataframe thead th {\n",
       "        text-align: right;\n",
       "    }\n",
       "</style>\n",
       "<table border=\"1\" class=\"dataframe\">\n",
       "  <thead>\n",
       "    <tr style=\"text-align: right;\">\n",
       "      <th></th>\n",
       "      <th>Restaurant Name</th>\n",
       "      <th>Aggregate rating</th>\n",
       "    </tr>\n",
       "  </thead>\n",
       "  <tbody>\n",
       "    <tr>\n",
       "      <th>13</th>\n",
       "      <td>Alston Bar &amp; Beef</td>\n",
       "      <td>0.0</td>\n",
       "    </tr>\n",
       "    <tr>\n",
       "      <th>178</th>\n",
       "      <td>Guy Fieri's Kitchen &amp; Bar</td>\n",
       "      <td>2.2</td>\n",
       "    </tr>\n",
       "  </tbody>\n",
       "</table>\n",
       "</div>"
      ],
      "text/plain": [
       "               Restaurant Name  Aggregate rating\n",
       "13           Alston Bar & Beef               0.0\n",
       "178  Guy Fieri's Kitchen & Bar               2.2"
      ]
     },
     "execution_count": 50,
     "metadata": {},
     "output_type": "execute_result"
    }
   ],
   "source": [
    "# 4. Dos restaurantes que possuem o tipo de culinária americana, qual o nome do\n",
    "# restaurante com a menor média de avaliação?\n",
    "\n",
    "col = [\"Restaurant Name\" , 'Aggregate rating']\n",
    "\n",
    "filtro = df1.loc[df1[\"Cuisines\"] == 'American']\n",
    "\n",
    "filtro.loc[: , col].groupby('Restaurant Name').mean().reset_index().sort_values('Aggregate rating', ascending = True).head(2)\n"
   ]
  },
  {
   "cell_type": "code",
   "execution_count": null,
   "id": "68bc47c6",
   "metadata": {},
   "outputs": [
    {
     "data": {
      "text/html": [
       "<div>\n",
       "<style scoped>\n",
       "    .dataframe tbody tr th:only-of-type {\n",
       "        vertical-align: middle;\n",
       "    }\n",
       "\n",
       "    .dataframe tbody tr th {\n",
       "        vertical-align: top;\n",
       "    }\n",
       "\n",
       "    .dataframe thead th {\n",
       "        text-align: right;\n",
       "    }\n",
       "</style>\n",
       "<table border=\"1\" class=\"dataframe\">\n",
       "  <thead>\n",
       "    <tr style=\"text-align: right;\">\n",
       "      <th></th>\n",
       "      <th>Restaurant Name</th>\n",
       "      <th>Aggregate rating</th>\n",
       "    </tr>\n",
       "  </thead>\n",
       "  <tbody>\n",
       "    <tr>\n",
       "      <th>23</th>\n",
       "      <td>Mandi@36</td>\n",
       "      <td>4.7</td>\n",
       "    </tr>\n",
       "  </tbody>\n",
       "</table>\n",
       "</div>"
      ],
      "text/plain": [
       "   Restaurant Name  Aggregate rating\n",
       "23        Mandi@36               4.7"
      ]
     },
     "execution_count": 51,
     "metadata": {},
     "output_type": "execute_result"
    }
   ],
   "source": [
    "# 5. Dos restaurantes que possuem o tipo de culinária árabe, qual o nome do\n",
    "# restaurante com a maior média de avaliação?\n",
    "\n",
    "col = [\"Restaurant Name\" , 'Aggregate rating']\n",
    "\n",
    "filtro = df1.loc[df1[\"Cuisines\"] == 'Arabian']\n",
    "\n",
    "filtro.loc[: , col].groupby('Restaurant Name').mean().reset_index().sort_values('Aggregate rating', ascending = False).head(1)"
   ]
  },
  {
   "cell_type": "code",
   "execution_count": null,
   "id": "2759f298",
   "metadata": {},
   "outputs": [
    {
     "data": {
      "text/html": [
       "<div>\n",
       "<style scoped>\n",
       "    .dataframe tbody tr th:only-of-type {\n",
       "        vertical-align: middle;\n",
       "    }\n",
       "\n",
       "    .dataframe tbody tr th {\n",
       "        vertical-align: top;\n",
       "    }\n",
       "\n",
       "    .dataframe thead th {\n",
       "        text-align: right;\n",
       "    }\n",
       "</style>\n",
       "<table border=\"1\" class=\"dataframe\">\n",
       "  <thead>\n",
       "    <tr style=\"text-align: right;\">\n",
       "      <th></th>\n",
       "      <th>Restaurant Name</th>\n",
       "      <th>Aggregate rating</th>\n",
       "    </tr>\n",
       "  </thead>\n",
       "  <tbody>\n",
       "    <tr>\n",
       "      <th>26</th>\n",
       "      <td>Raful</td>\n",
       "      <td>0.0</td>\n",
       "    </tr>\n",
       "  </tbody>\n",
       "</table>\n",
       "</div>"
      ],
      "text/plain": [
       "   Restaurant Name  Aggregate rating\n",
       "26           Raful               0.0"
      ]
     },
     "execution_count": 52,
     "metadata": {},
     "output_type": "execute_result"
    }
   ],
   "source": [
    "# 6. Dos restaurantes que possuem o tipo de culinária árabe, qual o nome do\n",
    "# restaurante com a menor média de avaliação?\n",
    "\n",
    "\n",
    "col = [\"Restaurant Name\" , 'Aggregate rating']\n",
    "\n",
    "filtro = df1.loc[df1[\"Cuisines\"] == 'Arabian']\n",
    "\n",
    "filtro.loc[: , col].groupby('Restaurant Name').mean().reset_index().sort_values('Aggregate rating', ascending = True).head(1)"
   ]
  },
  {
   "cell_type": "code",
   "execution_count": null,
   "id": "60760c1d",
   "metadata": {},
   "outputs": [
    {
     "data": {
      "text/html": [
       "<div>\n",
       "<style scoped>\n",
       "    .dataframe tbody tr th:only-of-type {\n",
       "        vertical-align: middle;\n",
       "    }\n",
       "\n",
       "    .dataframe tbody tr th {\n",
       "        vertical-align: top;\n",
       "    }\n",
       "\n",
       "    .dataframe thead th {\n",
       "        text-align: right;\n",
       "    }\n",
       "</style>\n",
       "<table border=\"1\" class=\"dataframe\">\n",
       "  <thead>\n",
       "    <tr style=\"text-align: right;\">\n",
       "      <th></th>\n",
       "      <th>Restaurant Name</th>\n",
       "      <th>Aggregate rating</th>\n",
       "    </tr>\n",
       "  </thead>\n",
       "  <tbody>\n",
       "    <tr>\n",
       "      <th>102</th>\n",
       "      <td>Samurai</td>\n",
       "      <td>4.9</td>\n",
       "    </tr>\n",
       "    <tr>\n",
       "      <th>91</th>\n",
       "      <td>Ramen Yushoken</td>\n",
       "      <td>4.9</td>\n",
       "    </tr>\n",
       "    <tr>\n",
       "      <th>141</th>\n",
       "      <td>WAKI Japanese BBQ Dining</td>\n",
       "      <td>4.9</td>\n",
       "    </tr>\n",
       "    <tr>\n",
       "      <th>58</th>\n",
       "      <td>Mendokoro Ramenba</td>\n",
       "      <td>4.9</td>\n",
       "    </tr>\n",
       "    <tr>\n",
       "      <th>76</th>\n",
       "      <td>Nobu Perth</td>\n",
       "      <td>4.9</td>\n",
       "    </tr>\n",
       "  </tbody>\n",
       "</table>\n",
       "</div>"
      ],
      "text/plain": [
       "              Restaurant Name  Aggregate rating\n",
       "102                   Samurai               4.9\n",
       "91             Ramen Yushoken               4.9\n",
       "141  WAKI Japanese BBQ Dining               4.9\n",
       "58          Mendokoro Ramenba               4.9\n",
       "76                 Nobu Perth               4.9"
      ]
     },
     "execution_count": 53,
     "metadata": {},
     "output_type": "execute_result"
    }
   ],
   "source": [
    "# 7. Dos restaurantes que possuem o tipo de culinária japonesa, qual o nome do\n",
    "# restaurante com a maior média de avaliação?\n",
    "\n",
    "\n",
    "col = [\"Restaurant Name\" , 'Aggregate rating']\n",
    "\n",
    "filtro = df1.loc[df1[\"Cuisines\"] == 'Japanese']\n",
    "\n",
    "filtro.loc[: , col].groupby('Restaurant Name').mean().reset_index().sort_values('Aggregate rating', ascending = False).head()\n"
   ]
  },
  {
   "cell_type": "code",
   "execution_count": null,
   "id": "e46fa561",
   "metadata": {},
   "outputs": [
    {
     "data": {
      "text/html": [
       "<div>\n",
       "<style scoped>\n",
       "    .dataframe tbody tr th:only-of-type {\n",
       "        vertical-align: middle;\n",
       "    }\n",
       "\n",
       "    .dataframe tbody tr th {\n",
       "        vertical-align: top;\n",
       "    }\n",
       "\n",
       "    .dataframe thead th {\n",
       "        text-align: right;\n",
       "    }\n",
       "</style>\n",
       "<table border=\"1\" class=\"dataframe\">\n",
       "  <thead>\n",
       "    <tr style=\"text-align: right;\">\n",
       "      <th></th>\n",
       "      <th>Restaurant Name</th>\n",
       "      <th>Aggregate rating</th>\n",
       "    </tr>\n",
       "  </thead>\n",
       "  <tbody>\n",
       "    <tr>\n",
       "      <th>5</th>\n",
       "      <td>Banzai Sushi</td>\n",
       "      <td>0.0</td>\n",
       "    </tr>\n",
       "    <tr>\n",
       "      <th>84</th>\n",
       "      <td>Orienthai</td>\n",
       "      <td>2.4</td>\n",
       "    </tr>\n",
       "    <tr>\n",
       "      <th>23</th>\n",
       "      <td>Hachiko</td>\n",
       "      <td>2.5</td>\n",
       "    </tr>\n",
       "    <tr>\n",
       "      <th>25</th>\n",
       "      <td>Haná</td>\n",
       "      <td>2.7</td>\n",
       "    </tr>\n",
       "    <tr>\n",
       "      <th>128</th>\n",
       "      <td>Sushi Loko</td>\n",
       "      <td>2.9</td>\n",
       "    </tr>\n",
       "  </tbody>\n",
       "</table>\n",
       "</div>"
      ],
      "text/plain": [
       "    Restaurant Name  Aggregate rating\n",
       "5      Banzai Sushi               0.0\n",
       "84        Orienthai               2.4\n",
       "23          Hachiko               2.5\n",
       "25             Haná               2.7\n",
       "128      Sushi Loko               2.9"
      ]
     },
     "execution_count": 54,
     "metadata": {},
     "output_type": "execute_result"
    }
   ],
   "source": [
    "# 8. Dos restaurantes que possuem o tipo de culinária japonesa, qual o nome do\n",
    "# restaurante com a menor média de avaliação?\n",
    "\n",
    "\n",
    "col = [\"Restaurant Name\" , 'Aggregate rating']\n",
    "\n",
    "filtro = df1.loc[df1[\"Cuisines\"] == 'Japanese']\n",
    "\n",
    "filtro.loc[: , col].groupby('Restaurant Name').mean().reset_index().sort_values('Aggregate rating', ascending = True).head()"
   ]
  },
  {
   "cell_type": "code",
   "execution_count": null,
   "id": "9835b381",
   "metadata": {},
   "outputs": [],
   "source": [
    "# 9. Dos restaurantes que possuem o tipo de culinária caseira, qual o nome do\n",
    "# restaurante com a maior média de avaliação?\n"
   ]
  },
  {
   "cell_type": "code",
   "execution_count": null,
   "id": "a46a6703",
   "metadata": {},
   "outputs": [
    {
     "data": {
      "text/plain": [
       "Index(['Restaurant ID', 'Restaurant Name', 'Country Code', 'City', 'Address',\n",
       "       'Locality', 'Locality Verbose', 'Longitude', 'Latitude', 'Cuisines',\n",
       "       'Average Cost for two', 'Currency', 'Has Table booking',\n",
       "       'Has Online delivery', 'Is delivering now', 'Switch to order menu',\n",
       "       'Price range', 'Aggregate rating', 'Rating color', 'Rating text',\n",
       "       'Votes'],\n",
       "      dtype='object')"
      ]
     },
     "execution_count": 56,
     "metadata": {},
     "output_type": "execute_result"
    }
   ],
   "source": [
    "# 10. Dos restaurantes que possuem o tipo de culinária caseira, qual o nome do\n",
    "# restaurante com a menor média de avaliação?\n",
    "\n",
    "df1.columns"
   ]
  },
  {
   "cell_type": "code",
   "execution_count": null,
   "id": "f672a7fd",
   "metadata": {},
   "outputs": [
    {
     "data": {
      "text/html": [
       "<div>\n",
       "<style scoped>\n",
       "    .dataframe tbody tr th:only-of-type {\n",
       "        vertical-align: middle;\n",
       "    }\n",
       "\n",
       "    .dataframe tbody tr th {\n",
       "        vertical-align: top;\n",
       "    }\n",
       "\n",
       "    .dataframe thead th {\n",
       "        text-align: right;\n",
       "    }\n",
       "</style>\n",
       "<table border=\"1\" class=\"dataframe\">\n",
       "  <thead>\n",
       "    <tr style=\"text-align: right;\">\n",
       "      <th></th>\n",
       "      <th>Cuisines</th>\n",
       "      <th>Average Cost for two</th>\n",
       "    </tr>\n",
       "  </thead>\n",
       "  <tbody>\n",
       "    <tr>\n",
       "      <th>104</th>\n",
       "      <td>Modern Australian</td>\n",
       "      <td>1.470693e+06</td>\n",
       "    </tr>\n",
       "    <tr>\n",
       "      <th>162</th>\n",
       "      <td>Western</td>\n",
       "      <td>3.333333e+05</td>\n",
       "    </tr>\n",
       "    <tr>\n",
       "      <th>75</th>\n",
       "      <td>Indonesian</td>\n",
       "      <td>2.000000e+05</td>\n",
       "    </tr>\n",
       "    <tr>\n",
       "      <th>148</th>\n",
       "      <td>Sunda</td>\n",
       "      <td>2.000000e+05</td>\n",
       "    </tr>\n",
       "    <tr>\n",
       "      <th>46</th>\n",
       "      <td>Dimsum</td>\n",
       "      <td>1.500000e+05</td>\n",
       "    </tr>\n",
       "  </tbody>\n",
       "</table>\n",
       "</div>"
      ],
      "text/plain": [
       "              Cuisines  Average Cost for two\n",
       "104  Modern Australian          1.470693e+06\n",
       "162            Western          3.333333e+05\n",
       "75          Indonesian          2.000000e+05\n",
       "148              Sunda          2.000000e+05\n",
       "46              Dimsum          1.500000e+05"
      ]
     },
     "execution_count": 57,
     "metadata": {},
     "output_type": "execute_result"
    }
   ],
   "source": [
    "# 11. Qual o tipo de culinária que possui o maior valor médio de um prato para duas\n",
    "# pessoas?\n",
    "\n",
    "col = [\"Cuisines\" , 'Average Cost for two']\n",
    "\n",
    "df1.loc[: , col].groupby('Cuisines').mean().reset_index().sort_values('Average Cost for two', ascending = False).head()\n"
   ]
  },
  {
   "cell_type": "code",
   "execution_count": null,
   "id": "af9ccd0b",
   "metadata": {},
   "outputs": [
    {
     "data": {
      "text/html": [
       "<div>\n",
       "<style scoped>\n",
       "    .dataframe tbody tr th:only-of-type {\n",
       "        vertical-align: middle;\n",
       "    }\n",
       "\n",
       "    .dataframe tbody tr th {\n",
       "        vertical-align: top;\n",
       "    }\n",
       "\n",
       "    .dataframe thead th {\n",
       "        text-align: right;\n",
       "    }\n",
       "</style>\n",
       "<table border=\"1\" class=\"dataframe\">\n",
       "  <thead>\n",
       "    <tr style=\"text-align: right;\">\n",
       "      <th></th>\n",
       "      <th>Cuisines</th>\n",
       "      <th>Aggregate rating</th>\n",
       "    </tr>\n",
       "  </thead>\n",
       "  <tbody>\n",
       "    <tr>\n",
       "      <th>117</th>\n",
       "      <td>Others</td>\n",
       "      <td>4.90</td>\n",
       "    </tr>\n",
       "    <tr>\n",
       "      <th>130</th>\n",
       "      <td>Ramen</td>\n",
       "      <td>4.80</td>\n",
       "    </tr>\n",
       "    <tr>\n",
       "      <th>53</th>\n",
       "      <td>Egyptian</td>\n",
       "      <td>4.80</td>\n",
       "    </tr>\n",
       "    <tr>\n",
       "      <th>118</th>\n",
       "      <td>Ottoman</td>\n",
       "      <td>4.80</td>\n",
       "    </tr>\n",
       "    <tr>\n",
       "      <th>148</th>\n",
       "      <td>Sunda</td>\n",
       "      <td>4.75</td>\n",
       "    </tr>\n",
       "  </tbody>\n",
       "</table>\n",
       "</div>"
      ],
      "text/plain": [
       "     Cuisines  Aggregate rating\n",
       "117    Others              4.90\n",
       "130     Ramen              4.80\n",
       "53   Egyptian              4.80\n",
       "118   Ottoman              4.80\n",
       "148     Sunda              4.75"
      ]
     },
     "execution_count": 58,
     "metadata": {},
     "output_type": "execute_result"
    }
   ],
   "source": [
    "# 12. Qual o tipo de culinária que possui a maior nota média?\n",
    "\n",
    "col = [\"Cuisines\" , 'Aggregate rating']\n",
    "\n",
    "df1.loc[: , col].groupby('Cuisines').mean().reset_index().sort_values('Aggregate rating', ascending = False).head()\n"
   ]
  },
  {
   "cell_type": "code",
   "execution_count": null,
   "id": "184787a9",
   "metadata": {},
   "outputs": [
    {
     "data": {
      "text/html": [
       "<div>\n",
       "<style scoped>\n",
       "    .dataframe tbody tr th:only-of-type {\n",
       "        vertical-align: middle;\n",
       "    }\n",
       "\n",
       "    .dataframe tbody tr th {\n",
       "        vertical-align: top;\n",
       "    }\n",
       "\n",
       "    .dataframe thead th {\n",
       "        text-align: right;\n",
       "    }\n",
       "</style>\n",
       "<table border=\"1\" class=\"dataframe\">\n",
       "  <thead>\n",
       "    <tr style=\"text-align: right;\">\n",
       "      <th></th>\n",
       "      <th>Cuisines</th>\n",
       "      <th>Aggregate rating</th>\n",
       "    </tr>\n",
       "  </thead>\n",
       "  <tbody>\n",
       "    <tr>\n",
       "      <th>42</th>\n",
       "      <td>North Indian</td>\n",
       "      <td>24</td>\n",
       "    </tr>\n",
       "    <tr>\n",
       "      <th>51</th>\n",
       "      <td>South Indian</td>\n",
       "      <td>17</td>\n",
       "    </tr>\n",
       "    <tr>\n",
       "      <th>10</th>\n",
       "      <td>Cafe</td>\n",
       "      <td>16</td>\n",
       "    </tr>\n",
       "    <tr>\n",
       "      <th>44</th>\n",
       "      <td>Pizza</td>\n",
       "      <td>16</td>\n",
       "    </tr>\n",
       "    <tr>\n",
       "      <th>17</th>\n",
       "      <td>Fast Food</td>\n",
       "      <td>15</td>\n",
       "    </tr>\n",
       "  </tbody>\n",
       "</table>\n",
       "</div>"
      ],
      "text/plain": [
       "        Cuisines  Aggregate rating\n",
       "42  North Indian                24\n",
       "51  South Indian                17\n",
       "10          Cafe                16\n",
       "44         Pizza                16\n",
       "17     Fast Food                15"
      ]
     },
     "execution_count": 59,
     "metadata": {},
     "output_type": "execute_result"
    }
   ],
   "source": [
    "# 13. Qual o tipo de culinária que possui mais restaurantes que aceitam pedidos\n",
    "# online e fazem entregas?\n",
    "\n",
    "col = [\"Cuisines\" , 'Aggregate rating']\n",
    "\n",
    "filtro = df1.loc[df1[\"Is delivering now\"] == 1]\n",
    "\n",
    "filtro.loc[: , col].groupby('Cuisines').nunique().reset_index().sort_values('Aggregate rating', ascending = False).head()\n",
    "\n"
   ]
  },
  {
   "cell_type": "code",
   "execution_count": null,
   "id": "02af5ea6",
   "metadata": {},
   "outputs": [],
   "source": []
  },
  {
   "cell_type": "code",
   "execution_count": null,
   "id": "a3b4ff7a",
   "metadata": {},
   "outputs": [],
   "source": []
  },
  {
   "cell_type": "code",
   "execution_count": null,
   "id": "cceebeec",
   "metadata": {},
   "outputs": [],
   "source": []
  },
  {
   "cell_type": "code",
   "execution_count": null,
   "id": "96650297",
   "metadata": {},
   "outputs": [],
   "source": []
  }
 ],
 "metadata": {
  "kernelspec": {
   "display_name": "Python 3 (ipykernel)",
   "language": "python",
   "name": "python3"
  },
  "language_info": {
   "codemirror_mode": {
    "name": "ipython",
    "version": 3
   },
   "file_extension": ".py",
   "mimetype": "text/x-python",
   "name": "python",
   "nbconvert_exporter": "python",
   "pygments_lexer": "ipython3",
   "version": "3.10.7"
  }
 },
 "nbformat": 4,
 "nbformat_minor": 5
}
