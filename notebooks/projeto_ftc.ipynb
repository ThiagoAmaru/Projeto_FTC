{
 "cells": [
  {
   "cell_type": "markdown",
   "id": "98054f05",
   "metadata": {},
   "source": [
    "# Anotações\n",
    "\n",
    "Desempatar os critérios, descobrindo os restaurantes com o ID mais antigo\n",
    "\n",
    "Verificar a interpretação das questões 9 e 10, o que é culinaria caseira?\n"
   ]
  },
  {
   "cell_type": "markdown",
   "id": "c6d39047",
   "metadata": {},
   "source": [
    "# Import"
   ]
  },
  {
   "cell_type": "code",
   "execution_count": null,
   "id": "59bdf598",
   "metadata": {},
   "outputs": [],
   "source": [
    "import pandas as pd"
   ]
  },
  {
   "cell_type": "markdown",
   "id": "1d8b5fd6",
   "metadata": {},
   "source": [
    "# Load Data\n"
   ]
  },
  {
   "cell_type": "code",
   "execution_count": null,
   "id": "86699a6f",
   "metadata": {},
   "outputs": [],
   "source": [
    "df = pd.read_csv(\"../dataset/zomato.csv\")"
   ]
  },
  {
   "cell_type": "markdown",
   "id": "9cdb638e",
   "metadata": {},
   "source": [
    "# Clean Data"
   ]
  },
  {
   "cell_type": "code",
   "execution_count": null,
   "id": "19e27309",
   "metadata": {},
   "outputs": [],
   "source": [
    "#Comando para ver quantidade de linhas e colunas do data frame\n",
    "df.shape"
   ]
  },
  {
   "cell_type": "code",
   "execution_count": null,
   "id": "05dd4724",
   "metadata": {},
   "outputs": [],
   "source": [
    "#Comando para verifiar o nome das colunas\n",
    "df.columns"
   ]
  },
  {
   "cell_type": "code",
   "execution_count": null,
   "id": "58147ac1",
   "metadata": {},
   "outputs": [],
   "source": [
    "#Comando para ver 5 linhas aleatorias das tabelas\n",
    "df.sample(5)"
   ]
  },
  {
   "cell_type": "code",
   "execution_count": null,
   "id": "079af57e",
   "metadata": {
    "scrolled": true
   },
   "outputs": [],
   "source": [
    "#Comando para verifiar os tipos dos variaveis\n",
    "df.dtypes"
   ]
  },
  {
   "cell_type": "code",
   "execution_count": null,
   "id": "0245e58b",
   "metadata": {},
   "outputs": [],
   "source": [
    "# Copia o data frame\n",
    "df1 = df.copy()"
   ]
  },
  {
   "attachments": {},
   "cell_type": "markdown",
   "id": "1c4e0c9e",
   "metadata": {},
   "source": [
    "# Aplicando as alterações sugeridas\n"
   ]
  },
  {
   "cell_type": "code",
   "execution_count": null,
   "id": "8b9ebb64",
   "metadata": {},
   "outputs": [],
   "source": [
    "# Preenchimento do nome dos países\n",
    "\n",
    "COUNTRIES = {\n",
    "1: \"India\",\n",
    "14: \"Australia\",\n",
    "30: \"Brazil\",\n",
    "37: \"Canada\",\n",
    "94: \"Indonesia\",\n",
    "148: \"New Zeland\",\n",
    "162: \"Philippines\",\n",
    "166: \"Qatar\",\n",
    "184: \"Singapure\",\n",
    "189: \"South Africa\",\n",
    "191: \"Sri Lanka\",\n",
    "208: \"Turkey\",\n",
    "214: \"United Arab Emirates\",\n",
    "215: \"England\",\n",
    "216: \"United States of America\",\n",
    "}\n",
    "\n",
    "def country_name(country_id):\n",
    "    return COUNTRIES[country_id]"
   ]
  },
  {
   "cell_type": "code",
   "execution_count": null,
   "id": "09e0932c",
   "metadata": {},
   "outputs": [],
   "source": [
    "#Além disso, o Cientista de Dados também sugeriu categorizar, inicialmente, todos os restaurantes somente por um tipo de culinária. Para isso, ele te entregou o seguinte código:\n",
    "\n",
    "#A coluna que recebera, localizando a coluna e fazendo aplicação a todas as linhas, verificando o que é string, convertendo para string\n",
    "\n",
    "df1[\"Cuisines\"] = df1.loc[:, \"Cuisines\"].apply(lambda x: x.split(\",\")[0] if isinstance(x, str) == True else str(x).split(\",\")[0])"
   ]
  },
  {
   "cell_type": "markdown",
   "id": "61bcfe9d",
   "metadata": {},
   "source": [
    "## Geral\n"
   ]
  },
  {
   "cell_type": "code",
   "execution_count": null,
   "id": "fc6b22b3",
   "metadata": {},
   "outputs": [],
   "source": [
    "df1.sample(5)"
   ]
  },
  {
   "cell_type": "code",
   "execution_count": null,
   "id": "13f893d8",
   "metadata": {},
   "outputs": [],
   "source": [
    "#1. Quantos restaurantes únicos estão registrados?\n",
    "\n",
    "# Identifica os valores unicos, o tamanho sem os valores repetido, [0] pega apenas as linhas, [1] seria \n",
    "df1['Restaurant ID'].unique().shape[0]"
   ]
  },
  {
   "cell_type": "code",
   "execution_count": null,
   "id": "a93bd398",
   "metadata": {},
   "outputs": [],
   "source": [
    "#2. Quantos países únicos estão registrados?\n",
    "\n",
    "# Identifica os valores unicos, o tamanho sem os valores repetido, [0] pega apenas as linhas, [1] seria colunas\n",
    "df1['Country Code'].unique().shape[0]"
   ]
  },
  {
   "cell_type": "code",
   "execution_count": null,
   "id": "ac25bf6a",
   "metadata": {},
   "outputs": [],
   "source": [
    "# 3. Quantas cidades únicas estão registradas?\n",
    "\n",
    "# Identifica os valores unicos, o tamanho sem os valores repetido, [0] pega apenas as linhas, [1] seria colunas\n",
    "df1['City'].unique().shape[0]"
   ]
  },
  {
   "cell_type": "code",
   "execution_count": null,
   "id": "fa17f1b5",
   "metadata": {},
   "outputs": [],
   "source": [
    "# 4. Qual o total de avaliações feitas?\n",
    "\n",
    "#soma os valores da coluna\n",
    "df1['Votes'].sum()"
   ]
  },
  {
   "cell_type": "code",
   "execution_count": null,
   "id": "ffdd2ea1",
   "metadata": {},
   "outputs": [],
   "source": [
    "# 5. Qual o total de tipos de culinária registrados?\n",
    "\n",
    "# Identifica os valores unicos, o tamanho sem os valores repetido, [0] pega apenas as linhas, [1] seria colunas\n",
    "df1['Cuisines'].unique().shape[0]"
   ]
  },
  {
   "cell_type": "markdown",
   "id": "dccbcc01",
   "metadata": {},
   "source": [
    "# Pais\n"
   ]
  },
  {
   "cell_type": "code",
   "execution_count": null,
   "id": "fb94e03e",
   "metadata": {},
   "outputs": [],
   "source": [
    "# 1. Qual o nome do país que possui mais cidades registradas?\n",
    "\n",
    "# Seleciona colunas\n",
    "col = ['Country Code', 'City']\n",
    "\n",
    "# Agrupa as colunas pelo codigo do pais, ver a quantidade de elementos dentro \"Country Code\", reseta o index\n",
    "aux = df1.loc[: , col].groupby('Country Code').count().reset_index()\n",
    "\n",
    "# Ordena os Valores por Cidade, o ascending = False organiza em ordem decrescente, head tras os primeiros elementosva\n",
    "var = aux.sort_values('City', ascending= False).head(1)\n",
    "\n",
    "country_name(var.iloc[0, 0])\n"
   ]
  },
  {
   "cell_type": "code",
   "execution_count": null,
   "id": "8c21868e",
   "metadata": {},
   "outputs": [],
   "source": [
    "# 2. Qual o nome do país que possui mais restaurantes registrados?\n",
    "\n",
    "# Seleciona colunas\n",
    "col = ['Country Code', 'Restaurant ID']\n",
    "\n",
    "# Agrupa as colunas pelo codigo do pais, ver a quantidade de elementos dentro \"Country Code\", reseta o index\n",
    "aux = df1.loc[: , col].groupby('Country Code').count().reset_index()\n",
    "\n",
    "# Ordena os Valores por Cidade, o ascending = False organiza em ordem decrescente, head tras os primeiros elementos\n",
    "var = aux.sort_values('Restaurant ID', ascending= False).head(1)\n",
    "\n",
    "country_name(var.iloc[0, 0])"
   ]
  },
  {
   "cell_type": "code",
   "execution_count": null,
   "id": "d0eb1958",
   "metadata": {},
   "outputs": [],
   "source": [
    "#3. Qual o nome do país que possui mais restaurantes com o nível de preço igual a 4 registrados?\n",
    "\n",
    "#seleciona as colunas que serão utilizadas em uma unica variavel\n",
    "col = ['Country Code', 'Restaurant ID']\n",
    "\n",
    "#localiza as linhas com o \"Price range\" igual a quatro, as colunas desejadas, reseta o index\n",
    "pre_four = df1.loc[df1['Price range'] == 4, col].reset_index()\n",
    "\n",
    "# Agrupa as colunas pelo codigo do pais, ver a quantidade de elementos dentro \"Country Code\", reseta o index\n",
    "aux = pre_four.loc[: , col].groupby('Country Code').count().reset_index()\n",
    "\n",
    "# Ordena os Valores por Cidade, o ascending = False organiza em ordem decrescente, head tras os primeiros elementos\n",
    "var = aux.sort_values('Restaurant ID', ascending= False).head(1)\n",
    "\n",
    "country_name(var.iloc[0, 0])\n",
    "\n"
   ]
  },
  {
   "cell_type": "code",
   "execution_count": null,
   "id": "431223d7",
   "metadata": {},
   "outputs": [],
   "source": [
    "# 4. Qual o nome do país que possui a maior quantidade de tipos de culinária distintos?\n",
    "\n",
    "col = ['Country Code', 'Cuisines']\n",
    "\n",
    "\n",
    "# O metodo nunique realiza a soma dos elementos, considerando apenas os valores únicos\n",
    "var = df1[col].groupby(['Country Code'], ).nunique().reset_index().sort_values('Cuisines', ascending = False)\n",
    "\n",
    "\n",
    "country_name(var.iloc[0, 0])"
   ]
  },
  {
   "cell_type": "code",
   "execution_count": null,
   "id": "a156a363",
   "metadata": {},
   "outputs": [],
   "source": [
    "#5. Qual o nome do país que possui a maior quantidade de avaliações feitas?\n",
    "\n",
    "# Seleciona colunas\n",
    "col = ['Country Code', 'Votes']\n",
    "\n",
    "# Agrupa as colunas pelo codigo do pais, ver a quantidade de elementos dentro \"Country Code\", reseta o index\n",
    "aux = df1.loc[: , col].groupby('Country Code').sum().reset_index()\n",
    "\n",
    "# Ordena os Valores por Cidade, o ascending = False organiza em ordem decrescente, head tras os primeiros elementos\n",
    "var = aux.sort_values('Votes', ascending= False).head(1)\n",
    "\n",
    "country_name(var.iloc[0, 0])"
   ]
  },
  {
   "cell_type": "code",
   "execution_count": null,
   "id": "a45e6ba2",
   "metadata": {},
   "outputs": [],
   "source": [
    "#6. Qual o nome do país que possui a maior quantidade de restaurantes que fazem entrega?\n",
    "\n",
    "#Nao eh especificado, vou assumir que 1 é igual a positivo\n",
    "\n",
    "col = ['Country Code', 'Restaurant ID']\n",
    "\n",
    "filtro = df1.loc[(df1['Is delivering now'] == 1) | (df1['Has Online delivery'] == 1)]\n",
    "\n",
    "aux = filtro.loc[: , col].groupby('Country Code').count().reset_index()\n",
    "\n",
    "# Ordena os Valores por Cidade, o ascending = False organiza em ordem decrescente, head tras os primeiros elementos\n",
    "var = aux.sort_values('Restaurant ID', ascending= False).head(1)\n",
    "\n",
    "country_name(var.iloc[0, 0])"
   ]
  },
  {
   "cell_type": "code",
   "execution_count": null,
   "id": "d1bb83e7",
   "metadata": {},
   "outputs": [],
   "source": [
    "#7. Qual o nome do país que possui a maior quantidade de restaurantes que aceitam reservas?\n",
    "\n",
    "#Nao eh especificado, vou assumir que 1 é igual a positivo\n",
    "\n",
    "col = ['Country Code', 'Restaurant ID']\n",
    "\n",
    "filtro = df1.loc[df1['Has Table booking'] == 1]\n",
    "\n",
    "aux = filtro.loc[: , col].groupby('Country Code').count().reset_index()\n",
    "\n",
    "# Ordena os Valores por Cidade, o ascending = False organiza em ordem decrescente, head tras os primeiros elementos\n",
    "var = aux.sort_values('Restaurant ID', ascending= False).head(1)\n",
    "\n",
    "country_name(var.iloc[0, 0])"
   ]
  },
  {
   "cell_type": "code",
   "execution_count": null,
   "id": "5f0a662e",
   "metadata": {},
   "outputs": [],
   "source": [
    "#8. Qual o nome do país que possui, na média, a maior quantidade de avaliações registrada?\n",
    "\n",
    "# Seleciona colunas\n",
    "col = ['Country Code', 'Votes']\n",
    "\n",
    "aux = df1.loc[: , col].groupby('Country Code').mean().reset_index()\n",
    "\n",
    "# Ordena os Valores por Cidade, o ascending = False organiza em ordem decrescente, head tras os primeiros elementos\n",
    "var = aux.sort_values('Votes', ascending= False).head(1)\n",
    "\n",
    "country_name(var.iloc[0, 0])"
   ]
  },
  {
   "cell_type": "code",
   "execution_count": null,
   "id": "3b7768f8",
   "metadata": {},
   "outputs": [],
   "source": [
    "#9. Qual o nome do país que possui, na média, a maior nota média registrada?\n",
    "\n",
    "# Seleciona colunas\n",
    "col = ['Country Code', 'Aggregate rating']\n",
    "\n",
    "aux = df1.loc[: , col].groupby('Country Code').mean().reset_index()\n",
    "\n",
    "# Ordena os Valores por Cidade, o ascending = False organiza em ordem decrescente, head tras os primeiros elementos\n",
    "var = aux.sort_values('Aggregate rating', ascending= False).head(1)\n",
    "\n",
    "country_name(var.iloc[0, 0])"
   ]
  },
  {
   "cell_type": "code",
   "execution_count": null,
   "id": "c74d9913",
   "metadata": {},
   "outputs": [],
   "source": [
    "#10. Qual o nome do país que possui, na média, a menor nota média registrada?\n",
    "\n",
    "# Seleciona colunas\n",
    "col = ['Country Code', 'Aggregate rating']\n",
    "\n",
    "aux = df1.loc[: , col].groupby('Country Code').mean().reset_index()\n",
    "\n",
    "# Ordena os Valores por Cidade, o ascending = False organiza em ordem decrescente, head tras os primeiros elementos\n",
    "var = aux.sort_values('Aggregate rating', ascending= True).head(1)\n",
    "\n",
    "country_name(var.iloc[0, 0])"
   ]
  },
  {
   "cell_type": "code",
   "execution_count": null,
   "id": "7637087a",
   "metadata": {},
   "outputs": [],
   "source": [
    "#11. Qual a média de preço de um prato para dois por país?\n",
    "\n",
    "col = ['Average Cost for two', 'Country Code']\n",
    "\n",
    "aux = df1.loc[: , col].groupby('Country Code').mean().reset_index()\n",
    "\n",
    "aux['Country Code'] = aux['Country Code'].apply(lambda x : country_name(x)) \n",
    "\n",
    "aux.sort_values('Average Cost for two', ascending= True)\n"
   ]
  },
  {
   "cell_type": "markdown",
   "id": "555e2ab0",
   "metadata": {},
   "source": [
    "# Cidade"
   ]
  },
  {
   "cell_type": "code",
   "execution_count": null,
   "id": "7061d485",
   "metadata": {},
   "outputs": [],
   "source": [
    "# 1. Qual o nome da cidade que possui mais restaurantes registrados?\n",
    "\n",
    "col = ['City', 'Restaurant ID']\n",
    "aux = df1.loc[:,col].groupby('City').count().reset_index()\n",
    "aux.sort_values('Restaurant ID', ascending = False).head(1)\n"
   ]
  },
  {
   "cell_type": "code",
   "execution_count": null,
   "id": "73580296",
   "metadata": {},
   "outputs": [],
   "source": [
    "# 2. Qual o nome da cidade que possui mais restaurantes com nota média acima de 4?\n",
    "\n",
    "filtro = df1.loc[df1['Aggregate rating'] > 4]\n",
    "\n",
    "col = [ 'City', 'Aggregate rating']\n",
    "\n",
    "aux = filtro.loc[: , col].groupby('City').mean().reset_index()\n",
    "\n",
    "aux.sort_values('Aggregate rating', ascending = False).head(1)"
   ]
  },
  {
   "cell_type": "code",
   "execution_count": null,
   "id": "b233fe21",
   "metadata": {},
   "outputs": [],
   "source": [
    "# 3. Qual o nome da cidade que possui mais restaurantes com nota média abaixo de 2.5?\n",
    "\n",
    "filtro = df1.loc[df1['Aggregate rating'] < 2.5]\n",
    "\n",
    "col = [ 'City', 'Aggregate rating']\n",
    "\n",
    "aux = filtro.loc[: , col].groupby('City').mean().reset_index()\n",
    "\n",
    "aux.sort_values('Aggregate rating', ascending = False).head(1)"
   ]
  },
  {
   "cell_type": "code",
   "execution_count": null,
   "id": "3c149625",
   "metadata": {},
   "outputs": [],
   "source": [
    "# 4. Qual o nome da cidade que possui o maior valor médio de um prato para dois?\n",
    "\n",
    "col = ['Aggregate rating', 'City']\n",
    "\n",
    "aux = df1.loc[: , col].groupby(\"City\").mean().reset_index()\n",
    "\n",
    "aux.sort_values(\"Aggregate rating\", ascending = False).head(1)"
   ]
  },
  {
   "cell_type": "code",
   "execution_count": null,
   "id": "ebb7a95a",
   "metadata": {},
   "outputs": [],
   "source": [
    "# 5. Qual o nome da cidade que possui a maior quantidade de tipos de culinária distintas?\n",
    "\n",
    "col = ['Cuisines', 'City']\n",
    "\n",
    "aux = df1.loc[: , col].groupby(\"City\").nunique().reset_index()\n",
    "\n",
    "aux.sort_values(\"Cuisines\", ascending = False).head(1)\n"
   ]
  },
  {
   "cell_type": "code",
   "execution_count": null,
   "id": "6e3b65ac",
   "metadata": {},
   "outputs": [],
   "source": [
    "# 6. Qual o nome da cidade que possui a maior quantidade de restaurantes que fazem reservas?\n",
    "\n",
    "col = ['City', 'Restaurant ID']\n",
    "\n",
    "filtro = df1.loc[df1['Has Table booking'] == 1]\n",
    "\n",
    "aux = filtro.loc[: , col].groupby('City').count().reset_index()\n",
    "\n",
    "# Ordena os Valores por Cidade, o ascending = False organiza em ordem decrescente, head tras os primeiros elementos\n",
    "aux.sort_values('Restaurant ID', ascending= False).head(1)\n"
   ]
  },
  {
   "cell_type": "code",
   "execution_count": null,
   "id": "ab17a5f7",
   "metadata": {},
   "outputs": [],
   "source": [
    "# 7. Qual o nome da cidade que possui a maior quantidade de restaurantes que fazem entregas?\n",
    "\n",
    "col = ['City' , 'Restaurant ID' ]\n",
    "\n",
    "filtro = df1.loc[(df1['Is delivering now'] == 1) | (df1['Has Online delivery'] == 1)]\n",
    "\n",
    "aux = filtro.loc[: , col].groupby('City').count().reset_index()\n",
    "\n",
    "# Ordena os Valores por Cidade, o ascending = False organiza em ordem decrescente, head tras os primeiros elementos\n",
    "aux.sort_values('Restaurant ID', ascending= False).head(1)\n"
   ]
  },
  {
   "cell_type": "code",
   "execution_count": null,
   "id": "68993582",
   "metadata": {},
   "outputs": [],
   "source": [
    "# 8. Qual o nome da cidade que possui a maior quantidade de restaurantes que aceitam pedidos online?\n",
    "\n",
    "col = ['City' , 'Restaurant ID' ]\n",
    "\n",
    "filtro = df1.loc[(df1['Has Online delivery'] == 1)]\n",
    "\n",
    "aux = filtro.loc[: , col].groupby('City').count().reset_index()\n",
    "\n",
    "# Ordena os Valores por Cidade, o ascending = False organiza em ordem decrescente, head tras os primeiros elementos\n",
    "aux.sort_values('Restaurant ID', ascending= False).head(1)"
   ]
  },
  {
   "cell_type": "markdown",
   "id": "506c708e",
   "metadata": {},
   "source": [
    "# Restaurantes"
   ]
  },
  {
   "cell_type": "code",
   "execution_count": null,
   "id": "a6e13268",
   "metadata": {},
   "outputs": [],
   "source": [
    "# 1. Qual o nome do restaurante que possui a maior quantidade de avaliações?\n",
    "\n",
    "filtro = df1['Votes'].max()\n",
    "\n",
    "aux = df1.loc[df1['Votes'] == filtro].reset_index()\n",
    "\n",
    "aux[[\"Restaurant Name\", \"Votes\"]]"
   ]
  },
  {
   "cell_type": "code",
   "execution_count": null,
   "id": "f32c357f",
   "metadata": {},
   "outputs": [],
   "source": [
    "# 2. Qual o nome do restaurante com a maior nota média?\n",
    "\n",
    "col = ['Restaurant Name' , 'Aggregate rating']\n",
    "\n",
    "df1[col].groupby('Restaurant Name').mean().reset_index().sort_values('Aggregate rating', ascending = False).head(5)\n",
    "\n",
    "#São muitos, mais de 5"
   ]
  },
  {
   "cell_type": "code",
   "execution_count": null,
   "id": "3fd7858d",
   "metadata": {},
   "outputs": [],
   "source": [
    "# 3. Qual o nome do restaurante que possui o maior valor de uma prato para duas\n",
    "# pessoas?\n",
    "\n",
    "\n",
    "col = ['Restaurant Name' , 'Average Cost for two']\n",
    "\n",
    "df1[col].groupby('Restaurant Name').max().reset_index().sort_values('Average Cost for two', ascending = False).head(1)\n"
   ]
  },
  {
   "cell_type": "code",
   "execution_count": null,
   "id": "bdc4d930",
   "metadata": {},
   "outputs": [],
   "source": [
    "# 4. Qual o nome do restaurante de tipo de culinária brasileira que possui a menor\n",
    "# média de avaliação?\n",
    "\n",
    "\n",
    "col = ['Restaurant Name' , 'Aggregate rating']\n",
    "\n",
    "filtro = df1.loc[(df1['Cuisines'] == 'Brazilian'), col]\n",
    "\n",
    "filtro.groupby(\"Restaurant Name\").mean().reset_index().sort_values('Aggregate rating', ascending = False).head(3)\n",
    "\n",
    "\n",
    "# Verificar o ID mais antigo\n"
   ]
  },
  {
   "cell_type": "code",
   "execution_count": null,
   "id": "23bba9e5",
   "metadata": {},
   "outputs": [],
   "source": [
    "# 5. Qual o nome do restaurante de tipo de culinária brasileira, e que é do Brasil, que\n",
    "# possui a maior média de avaliação?\n",
    "\n",
    "col = ['Restaurant Name' , 'Aggregate rating']\n",
    "\n",
    "filtro = df1.loc[(df1['Cuisines'] == 'Brazilian') & (df1['Country Code'] == 30), col]\n",
    "\n",
    "filtro.groupby(\"Restaurant Name\").mean().reset_index().sort_values('Aggregate rating', ascending = False).head(2)\n"
   ]
  },
  {
   "cell_type": "code",
   "execution_count": null,
   "id": "3396ba75",
   "metadata": {},
   "outputs": [],
   "source": [
    "# 6. Os restaurantes que aceitam pedido online são também, na média, os restaurantes que mais possuem avaliações registradas?\n",
    "\n",
    "\n",
    "col = ['Has Online delivery', 'Votes', ]\n",
    "\n",
    "df1.loc[: , col].groupby(\"Has Online delivery\").count().reset_index()\n",
    "\n"
   ]
  },
  {
   "cell_type": "code",
   "execution_count": null,
   "id": "f34d0bc5",
   "metadata": {},
   "outputs": [],
   "source": [
    "# 7. Os restaurantes que fazem reservas são também, na média, os restaurantes que\n",
    "# possuem o maior valor médio de um prato para duas pessoas?\n",
    "\n",
    "col = ['Has Table booking', 'Aggregate rating', ]\n",
    "\n",
    "df1.loc[: , col].groupby(\"Has Table booking\").mean().reset_index()\n"
   ]
  },
  {
   "cell_type": "code",
   "execution_count": null,
   "id": "98464d03",
   "metadata": {},
   "outputs": [],
   "source": [
    "# 8. Os restaurantes do tipo de culinária japonesa dos Estados Unidos da América\n",
    "# possuem um valor médio de prato para duas pessoas maior que as churrascarias americanas (BBQ)?\n",
    "\n",
    "col = ['Average Cost for two', 'Cuisines']\n",
    "\n",
    "filtro = df1.loc[(df1['Cuisines'] == 'Japanese') & (df1['Country Code'] == 216) | (df1['Cuisines'] == 'BBQ')]\n",
    "\n",
    "filtro.loc[: , col].groupby(\"Cuisines\").mean().reset_index()\n",
    "\n"
   ]
  },
  {
   "cell_type": "code",
   "execution_count": null,
   "id": "73055b58",
   "metadata": {},
   "outputs": [],
   "source": []
  },
  {
   "cell_type": "markdown",
   "id": "c19b56db",
   "metadata": {},
   "source": [
    "# Tipos de Culinária"
   ]
  },
  {
   "cell_type": "code",
   "execution_count": null,
   "id": "bec1245e",
   "metadata": {},
   "outputs": [],
   "source": [
    "# 1. Dos restaurantes que possuem o tipo de culinária italiana, qual o nome do\n",
    "# restaurante com a maior média de avaliação?\n",
    "\n",
    "col = [\"Restaurant Name\" , 'Aggregate rating']\n",
    "\n",
    "filtro = df1.loc[df1[\"Cuisines\"] == \"Italian\"]\n",
    "\n",
    "filtro.loc[: , col].groupby('Restaurant Name').mean().reset_index().sort_values('Aggregate rating', ascending = False).head(17)\n",
    "\n"
   ]
  },
  {
   "cell_type": "code",
   "execution_count": null,
   "id": "97340cb8",
   "metadata": {},
   "outputs": [],
   "source": [
    "# 2. Dos restaurantes que possuem o tipo de culinária italiana, qual o nome do\n",
    "# restaurante com a menor média de avaliação?\n",
    "\n",
    "col = [\"Restaurant Name\" , 'Aggregate rating']\n",
    "\n",
    "filtro = df1.loc[df1[\"Cuisines\"] == \"Italian\"]\n",
    "\n",
    "filtro.loc[: , col].groupby('Restaurant Name').mean().reset_index().sort_values('Aggregate rating', ascending = True).head(9)"
   ]
  },
  {
   "cell_type": "code",
   "execution_count": null,
   "id": "e6b36642",
   "metadata": {},
   "outputs": [],
   "source": [
    "# 3. Dos restaurantes que possuem o tipo de culinária americana, qual o nome do\n",
    "# restaurante com a maior média de avaliação?\n",
    "\n",
    "col = [\"Restaurant Name\" , 'Aggregate rating']\n",
    "\n",
    "filtro = df1.loc[df1[\"Cuisines\"] == 'American']\n",
    "\n",
    "filtro.loc[: , col].groupby('Restaurant Name').mean().reset_index().sort_values('Aggregate rating', ascending = False).head(17)"
   ]
  },
  {
   "cell_type": "code",
   "execution_count": null,
   "id": "9d99a226",
   "metadata": {},
   "outputs": [],
   "source": [
    "# 4. Dos restaurantes que possuem o tipo de culinária americana, qual o nome do\n",
    "# restaurante com a menor média de avaliação?\n",
    "\n",
    "col = [\"Restaurant Name\" , 'Aggregate rating']\n",
    "\n",
    "filtro = df1.loc[df1[\"Cuisines\"] == 'American']\n",
    "\n",
    "filtro.loc[: , col].groupby('Restaurant Name').mean().reset_index().sort_values('Aggregate rating', ascending = True).head(2)\n"
   ]
  },
  {
   "cell_type": "code",
   "execution_count": null,
   "id": "68bc47c6",
   "metadata": {},
   "outputs": [],
   "source": [
    "# 5. Dos restaurantes que possuem o tipo de culinária árabe, qual o nome do\n",
    "# restaurante com a maior média de avaliação?\n",
    "\n",
    "col = [\"Restaurant Name\" , 'Aggregate rating']\n",
    "\n",
    "filtro = df1.loc[df1[\"Cuisines\"] == 'Arabian']\n",
    "\n",
    "filtro.loc[: , col].groupby('Restaurant Name').mean().reset_index().sort_values('Aggregate rating', ascending = False).head(1)"
   ]
  },
  {
   "cell_type": "code",
   "execution_count": null,
   "id": "2759f298",
   "metadata": {},
   "outputs": [],
   "source": [
    "# 6. Dos restaurantes que possuem o tipo de culinária árabe, qual o nome do\n",
    "# restaurante com a menor média de avaliação?\n",
    "\n",
    "\n",
    "col = [\"Restaurant Name\" , 'Aggregate rating']\n",
    "\n",
    "filtro = df1.loc[df1[\"Cuisines\"] == 'Arabian']\n",
    "\n",
    "filtro.loc[: , col].groupby('Restaurant Name').mean().reset_index().sort_values('Aggregate rating', ascending = True).head(1)"
   ]
  },
  {
   "cell_type": "code",
   "execution_count": null,
   "id": "60760c1d",
   "metadata": {},
   "outputs": [],
   "source": [
    "# 7. Dos restaurantes que possuem o tipo de culinária japonesa, qual o nome do\n",
    "# restaurante com a maior média de avaliação?\n",
    "\n",
    "\n",
    "col = [\"Restaurant Name\" , 'Aggregate rating']\n",
    "\n",
    "filtro = df1.loc[df1[\"Cuisines\"] == 'Japanese']\n",
    "\n",
    "filtro.loc[: , col].groupby('Restaurant Name').mean().reset_index().sort_values('Aggregate rating', ascending = False).head()\n"
   ]
  },
  {
   "cell_type": "code",
   "execution_count": null,
   "id": "e46fa561",
   "metadata": {},
   "outputs": [],
   "source": [
    "# 8. Dos restaurantes que possuem o tipo de culinária japonesa, qual o nome do\n",
    "# restaurante com a menor média de avaliação?\n",
    "\n",
    "\n",
    "col = [\"Restaurant Name\" , 'Aggregate rating']\n",
    "\n",
    "filtro = df1.loc[df1[\"Cuisines\"] == 'Japanese']\n",
    "\n",
    "filtro.loc[: , col].groupby('Restaurant Name').mean().reset_index().sort_values('Aggregate rating', ascending = True).head()"
   ]
  },
  {
   "cell_type": "code",
   "execution_count": null,
   "id": "9835b381",
   "metadata": {},
   "outputs": [],
   "source": [
    "# 9. Dos restaurantes que possuem o tipo de culinária caseira, qual o nome do\n",
    "# restaurante com a maior média de avaliação?\n"
   ]
  },
  {
   "cell_type": "code",
   "execution_count": null,
   "id": "a46a6703",
   "metadata": {},
   "outputs": [],
   "source": [
    "# 10. Dos restaurantes que possuem o tipo de culinária caseira, qual o nome do\n",
    "# restaurante com a menor média de avaliação?\n",
    "\n",
    "df1.columns"
   ]
  },
  {
   "cell_type": "code",
   "execution_count": null,
   "id": "f672a7fd",
   "metadata": {},
   "outputs": [],
   "source": [
    "# 11. Qual o tipo de culinária que possui o maior valor médio de um prato para duas\n",
    "# pessoas?\n",
    "\n",
    "col = [\"Cuisines\" , 'Average Cost for two']\n",
    "\n",
    "df1.loc[: , col].groupby('Cuisines').mean().reset_index().sort_values('Average Cost for two', ascending = False).head()\n"
   ]
  },
  {
   "cell_type": "code",
   "execution_count": null,
   "id": "af9ccd0b",
   "metadata": {},
   "outputs": [],
   "source": [
    "# 12. Qual o tipo de culinária que possui a maior nota média?\n",
    "\n",
    "col = [\"Cuisines\" , 'Aggregate rating']\n",
    "\n",
    "df1.loc[: , col].groupby('Cuisines').mean().reset_index().sort_values('Aggregate rating', ascending = False).head()\n"
   ]
  },
  {
   "cell_type": "code",
   "execution_count": null,
   "id": "184787a9",
   "metadata": {},
   "outputs": [],
   "source": [
    "# 13. Qual o tipo de culinária que possui mais restaurantes que aceitam pedidos\n",
    "# online e fazem entregas?\n",
    "\n",
    "col = [\"Cuisines\" , 'Aggregate rating']\n",
    "\n",
    "filtro = df1.loc[df1[\"Is delivering now\"] == 1]\n",
    "\n",
    "filtro.loc[: , col].groupby('Cuisines').nunique().reset_index().sort_values('Aggregate rating', ascending = False).head()\n",
    "\n"
   ]
  }
 ],
 "metadata": {
  "kernelspec": {
   "display_name": "Python 3 (ipykernel)",
   "language": "python",
   "name": "python3"
  },
  "language_info": {
   "codemirror_mode": {
    "name": "ipython",
    "version": 3
   },
   "file_extension": ".py",
   "mimetype": "text/x-python",
   "name": "python",
   "nbconvert_exporter": "python",
   "pygments_lexer": "ipython3",
   "version": "3.10.7"
  }
 },
 "nbformat": 4,
 "nbformat_minor": 5
}
